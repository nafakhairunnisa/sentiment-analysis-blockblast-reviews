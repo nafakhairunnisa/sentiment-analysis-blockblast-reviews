{
  "nbformat": 4,
  "nbformat_minor": 0,
  "metadata": {
    "colab": {
      "provenance": []
    },
    "kernelspec": {
      "name": "python3",
      "display_name": "Python 3"
    },
    "language_info": {
      "name": "python"
    }
  },
  "cells": [
    {
      "cell_type": "markdown",
      "source": [
        "# Import libraries"
      ],
      "metadata": {
        "id": "XZTxzgzvz5sw"
      }
    },
    {
      "cell_type": "code",
      "execution_count": 6,
      "metadata": {
        "id": "Iah08bZMzkPe"
      },
      "outputs": [],
      "source": [
        "import joblib\n",
        "import numpy as np"
      ]
    },
    {
      "cell_type": "markdown",
      "source": [
        "# Load model dan vectorizer"
      ],
      "metadata": {
        "id": "fgxTSBekz9qd"
      }
    },
    {
      "cell_type": "code",
      "source": [
        "svm_model = joblib.load('svm_model.pkl')\n",
        "vectorizer = joblib.load('vectorizer.pkl')"
      ],
      "metadata": {
        "id": "GUw2N9sq_N5q"
      },
      "execution_count": 7,
      "outputs": []
    },
    {
      "cell_type": "markdown",
      "source": [
        "# Label mapping"
      ],
      "metadata": {
        "id": "cLjVrO94_RTZ"
      }
    },
    {
      "cell_type": "code",
      "source": [
        "label_mapping = {0: 'Negatif', 1: 'Netral', 2: 'Positif'}"
      ],
      "metadata": {
        "id": "PWMKtluF_VsY"
      },
      "execution_count": 8,
      "outputs": []
    },
    {
      "cell_type": "markdown",
      "source": [
        "# Inference"
      ],
      "metadata": {
        "id": "ntDrfjBg_ZLR"
      }
    },
    {
      "cell_type": "code",
      "source": [
        "test_sentences = [\n",
        "    \"Mudah dimainkan dan bagus.\",\n",
        "    \"Bukan game terbaik, tapi bisa jadi pilihan buat isi waktu luang.\",\n",
        "    \"Permainannya buruk banget, kecewa total.\"\n",
        "]\n",
        "\n",
        "# Preprocess dan transform\n",
        "X_test_vectorized = vectorizer.transform(test_sentences)\n",
        "\n",
        "# Inference / prediksi\n",
        "y_pred = svm_model.predict(X_test_vectorized)\n",
        "\n",
        "for sentence, pred in zip(test_sentences, y_pred):\n",
        "    print(f\"Teks: \\\"{sentence}\\\"\\nPrediksi Sentimen: {label_mapping[pred]}\\n\")"
      ],
      "metadata": {
        "colab": {
          "base_uri": "https://localhost:8080/"
        },
        "id": "VGimfgTK_X6k",
        "outputId": "6539020f-d97b-4b8a-fb3b-8511a34a74cb"
      },
      "execution_count": 9,
      "outputs": [
        {
          "output_type": "stream",
          "name": "stdout",
          "text": [
            "Teks: \"Mudah dimainkan dan bagus.\"\n",
            "Prediksi Sentimen: Positif\n",
            "\n",
            "Teks: \"Bukan game terbaik, tapi bisa jadi pilihan buat isi waktu luang.\"\n",
            "Prediksi Sentimen: Positif\n",
            "\n",
            "Teks: \"Permainannya buruk banget, kecewa total.\"\n",
            "Prediksi Sentimen: Negatif\n",
            "\n"
          ]
        }
      ]
    }
  ]
}