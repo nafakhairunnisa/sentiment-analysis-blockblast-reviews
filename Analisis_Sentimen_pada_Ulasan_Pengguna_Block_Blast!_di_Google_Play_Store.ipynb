{
  "cells": [
    {
      "cell_type": "markdown",
      "id": "d42af45e",
      "metadata": {
        "id": "d42af45e"
      },
      "source": [
        "# Analisis Sentimen pada Ulasan Pengguna Block Blast! di Google Play Store"
      ]
    },
    {
      "cell_type": "markdown",
      "source": [
        "## Import Libraries"
      ],
      "metadata": {
        "id": "VlQ5CWHyk84h"
      },
      "id": "VlQ5CWHyk84h"
    },
    {
      "cell_type": "code",
      "source": [
        "!pip install Sastrawi"
      ],
      "metadata": {
        "colab": {
          "base_uri": "https://localhost:8080/"
        },
        "id": "Fw84yombnPNF",
        "outputId": "a587d1f5-4ff7-4c3b-bb94-ea1bfab42d23"
      },
      "id": "Fw84yombnPNF",
      "execution_count": 1,
      "outputs": [
        {
          "output_type": "stream",
          "name": "stdout",
          "text": [
            "Collecting Sastrawi\n",
            "  Downloading Sastrawi-1.0.1-py2.py3-none-any.whl.metadata (909 bytes)\n",
            "Downloading Sastrawi-1.0.1-py2.py3-none-any.whl (209 kB)\n",
            "\u001b[2K   \u001b[90m━━━━━━━━━━━━━━━━━━━━━━━━━━━━━━━━━━━━━━━━\u001b[0m \u001b[32m209.7/209.7 kB\u001b[0m \u001b[31m1.8 MB/s\u001b[0m eta \u001b[36m0:00:00\u001b[0m\n",
            "\u001b[?25hInstalling collected packages: Sastrawi\n",
            "Successfully installed Sastrawi-1.0.1\n"
          ]
        }
      ]
    },
    {
      "cell_type": "code",
      "source": [
        "!pip install joblib"
      ],
      "metadata": {
        "colab": {
          "base_uri": "https://localhost:8080/"
        },
        "id": "7y8crTgUDHkR",
        "outputId": "3f916165-0345-4f3e-fed7-55005dcd5161"
      },
      "id": "7y8crTgUDHkR",
      "execution_count": 2,
      "outputs": [
        {
          "output_type": "stream",
          "name": "stdout",
          "text": [
            "Requirement already satisfied: joblib in /usr/local/lib/python3.11/dist-packages (1.4.2)\n"
          ]
        }
      ]
    },
    {
      "cell_type": "code",
      "source": [
        "!pip install tensorflow"
      ],
      "metadata": {
        "colab": {
          "base_uri": "https://localhost:8080/"
        },
        "id": "egnNp02mKeiU",
        "outputId": "cb49f421-44b0-4209-e725-7f032904f7aa"
      },
      "id": "egnNp02mKeiU",
      "execution_count": 4,
      "outputs": [
        {
          "output_type": "stream",
          "name": "stdout",
          "text": [
            "Collecting tensorflow\n",
            "  Downloading tensorflow-2.19.0-cp311-cp311-manylinux_2_17_x86_64.manylinux2014_x86_64.whl.metadata (4.1 kB)\n",
            "Requirement already satisfied: absl-py>=1.0.0 in /usr/local/lib/python3.11/dist-packages (from tensorflow) (1.4.0)\n",
            "Collecting astunparse>=1.6.0 (from tensorflow)\n",
            "  Downloading astunparse-1.6.3-py2.py3-none-any.whl.metadata (4.4 kB)\n",
            "Collecting flatbuffers>=24.3.25 (from tensorflow)\n",
            "  Downloading flatbuffers-25.2.10-py2.py3-none-any.whl.metadata (875 bytes)\n",
            "Requirement already satisfied: gast!=0.5.0,!=0.5.1,!=0.5.2,>=0.2.1 in /usr/local/lib/python3.11/dist-packages (from tensorflow) (0.6.0)\n",
            "Collecting google-pasta>=0.1.1 (from tensorflow)\n",
            "  Downloading google_pasta-0.2.0-py3-none-any.whl.metadata (814 bytes)\n",
            "Collecting libclang>=13.0.0 (from tensorflow)\n",
            "  Downloading libclang-18.1.1-py2.py3-none-manylinux2010_x86_64.whl.metadata (5.2 kB)\n",
            "Requirement already satisfied: opt-einsum>=2.3.2 in /usr/local/lib/python3.11/dist-packages (from tensorflow) (3.4.0)\n",
            "Requirement already satisfied: packaging in /usr/local/lib/python3.11/dist-packages (from tensorflow) (24.2)\n",
            "Requirement already satisfied: protobuf!=4.21.0,!=4.21.1,!=4.21.2,!=4.21.3,!=4.21.4,!=4.21.5,<6.0.0dev,>=3.20.3 in /usr/local/lib/python3.11/dist-packages (from tensorflow) (5.29.4)\n",
            "Requirement already satisfied: requests<3,>=2.21.0 in /usr/local/lib/python3.11/dist-packages (from tensorflow) (2.32.3)\n",
            "Requirement already satisfied: setuptools in /usr/local/lib/python3.11/dist-packages (from tensorflow) (75.2.0)\n",
            "Requirement already satisfied: six>=1.12.0 in /usr/local/lib/python3.11/dist-packages (from tensorflow) (1.17.0)\n",
            "Requirement already satisfied: termcolor>=1.1.0 in /usr/local/lib/python3.11/dist-packages (from tensorflow) (3.0.1)\n",
            "Requirement already satisfied: typing-extensions>=3.6.6 in /usr/local/lib/python3.11/dist-packages (from tensorflow) (4.13.1)\n",
            "Requirement already satisfied: wrapt>=1.11.0 in /usr/local/lib/python3.11/dist-packages (from tensorflow) (1.17.2)\n",
            "Requirement already satisfied: grpcio<2.0,>=1.24.3 in /usr/local/lib/python3.11/dist-packages (from tensorflow) (1.71.0)\n",
            "Collecting tensorboard~=2.19.0 (from tensorflow)\n",
            "  Downloading tensorboard-2.19.0-py3-none-any.whl.metadata (1.8 kB)\n",
            "Requirement already satisfied: keras>=3.5.0 in /usr/local/lib/python3.11/dist-packages (from tensorflow) (3.8.0)\n",
            "Requirement already satisfied: numpy<2.2.0,>=1.26.0 in /usr/local/lib/python3.11/dist-packages (from tensorflow) (2.0.2)\n",
            "Requirement already satisfied: h5py>=3.11.0 in /usr/local/lib/python3.11/dist-packages (from tensorflow) (3.13.0)\n",
            "Requirement already satisfied: ml-dtypes<1.0.0,>=0.5.1 in /usr/local/lib/python3.11/dist-packages (from tensorflow) (0.5.1)\n",
            "Collecting tensorflow-io-gcs-filesystem>=0.23.1 (from tensorflow)\n",
            "  Downloading tensorflow_io_gcs_filesystem-0.37.1-cp311-cp311-manylinux_2_17_x86_64.manylinux2014_x86_64.whl.metadata (14 kB)\n",
            "Collecting wheel<1.0,>=0.23.0 (from astunparse>=1.6.0->tensorflow)\n",
            "  Downloading wheel-0.45.1-py3-none-any.whl.metadata (2.3 kB)\n",
            "Requirement already satisfied: rich in /usr/local/lib/python3.11/dist-packages (from keras>=3.5.0->tensorflow) (14.0.0)\n",
            "Requirement already satisfied: namex in /usr/local/lib/python3.11/dist-packages (from keras>=3.5.0->tensorflow) (0.0.8)\n",
            "Requirement already satisfied: optree in /usr/local/lib/python3.11/dist-packages (from keras>=3.5.0->tensorflow) (0.15.0)\n",
            "Requirement already satisfied: charset-normalizer<4,>=2 in /usr/local/lib/python3.11/dist-packages (from requests<3,>=2.21.0->tensorflow) (3.4.1)\n",
            "Requirement already satisfied: idna<4,>=2.5 in /usr/local/lib/python3.11/dist-packages (from requests<3,>=2.21.0->tensorflow) (3.10)\n",
            "Requirement already satisfied: urllib3<3,>=1.21.1 in /usr/local/lib/python3.11/dist-packages (from requests<3,>=2.21.0->tensorflow) (2.3.0)\n",
            "Requirement already satisfied: certifi>=2017.4.17 in /usr/local/lib/python3.11/dist-packages (from requests<3,>=2.21.0->tensorflow) (2025.1.31)\n",
            "Requirement already satisfied: markdown>=2.6.8 in /usr/lib/python3/dist-packages (from tensorboard~=2.19.0->tensorflow) (3.3.6)\n",
            "Collecting tensorboard-data-server<0.8.0,>=0.7.0 (from tensorboard~=2.19.0->tensorflow)\n",
            "  Downloading tensorboard_data_server-0.7.2-py3-none-manylinux_2_31_x86_64.whl.metadata (1.1 kB)\n",
            "Collecting werkzeug>=1.0.1 (from tensorboard~=2.19.0->tensorflow)\n",
            "  Downloading werkzeug-3.1.3-py3-none-any.whl.metadata (3.7 kB)\n",
            "Requirement already satisfied: MarkupSafe>=2.1.1 in /usr/local/lib/python3.11/dist-packages (from werkzeug>=1.0.1->tensorboard~=2.19.0->tensorflow) (3.0.2)\n",
            "Requirement already satisfied: markdown-it-py>=2.2.0 in /usr/local/lib/python3.11/dist-packages (from rich->keras>=3.5.0->tensorflow) (3.0.0)\n",
            "Requirement already satisfied: pygments<3.0.0,>=2.13.0 in /usr/local/lib/python3.11/dist-packages (from rich->keras>=3.5.0->tensorflow) (2.19.1)\n",
            "Requirement already satisfied: mdurl~=0.1 in /usr/local/lib/python3.11/dist-packages (from markdown-it-py>=2.2.0->rich->keras>=3.5.0->tensorflow) (0.1.2)\n",
            "Downloading tensorflow-2.19.0-cp311-cp311-manylinux_2_17_x86_64.manylinux2014_x86_64.whl (644.9 MB)\n",
            "\u001b[2K   \u001b[90m━━━━━━━━━━━━━━━━━━━━━━━━━━━━━━━━━━━━━━━━\u001b[0m \u001b[32m644.9/644.9 MB\u001b[0m \u001b[31m1.6 MB/s\u001b[0m eta \u001b[36m0:00:00\u001b[0m\n",
            "\u001b[?25hDownloading astunparse-1.6.3-py2.py3-none-any.whl (12 kB)\n",
            "Downloading flatbuffers-25.2.10-py2.py3-none-any.whl (30 kB)\n",
            "Downloading google_pasta-0.2.0-py3-none-any.whl (57 kB)\n",
            "\u001b[2K   \u001b[90m━━━━━━━━━━━━━━━━━━━━━━━━━━━━━━━━━━━━━━━━\u001b[0m \u001b[32m57.5/57.5 kB\u001b[0m \u001b[31m5.1 MB/s\u001b[0m eta \u001b[36m0:00:00\u001b[0m\n",
            "\u001b[?25hDownloading libclang-18.1.1-py2.py3-none-manylinux2010_x86_64.whl (24.5 MB)\n",
            "\u001b[2K   \u001b[90m━━━━━━━━━━━━━━━━━━━━━━━━━━━━━━━━━━━━━━━━\u001b[0m \u001b[32m24.5/24.5 MB\u001b[0m \u001b[31m49.7 MB/s\u001b[0m eta \u001b[36m0:00:00\u001b[0m\n",
            "\u001b[?25hDownloading tensorboard-2.19.0-py3-none-any.whl (5.5 MB)\n",
            "\u001b[2K   \u001b[90m━━━━━━━━━━━━━━━━━━━━━━━━━━━━━━━━━━━━━━━━\u001b[0m \u001b[32m5.5/5.5 MB\u001b[0m \u001b[31m79.2 MB/s\u001b[0m eta \u001b[36m0:00:00\u001b[0m\n",
            "\u001b[?25hDownloading tensorflow_io_gcs_filesystem-0.37.1-cp311-cp311-manylinux_2_17_x86_64.manylinux2014_x86_64.whl (5.1 MB)\n",
            "\u001b[2K   \u001b[90m━━━━━━━━━━━━━━━━━━━━━━━━━━━━━━━━━━━━━━━━\u001b[0m \u001b[32m5.1/5.1 MB\u001b[0m \u001b[31m81.1 MB/s\u001b[0m eta \u001b[36m0:00:00\u001b[0m\n",
            "\u001b[?25hDownloading tensorboard_data_server-0.7.2-py3-none-manylinux_2_31_x86_64.whl (6.6 MB)\n",
            "\u001b[2K   \u001b[90m━━━━━━━━━━━━━━━━━━━━━━━━━━━━━━━━━━━━━━━━\u001b[0m \u001b[32m6.6/6.6 MB\u001b[0m \u001b[31m61.7 MB/s\u001b[0m eta \u001b[36m0:00:00\u001b[0m\n",
            "\u001b[?25hDownloading werkzeug-3.1.3-py3-none-any.whl (224 kB)\n",
            "\u001b[2K   \u001b[90m━━━━━━━━━━━━━━━━━━━━━━━━━━━━━━━━━━━━━━━━\u001b[0m \u001b[32m224.5/224.5 kB\u001b[0m \u001b[31m19.6 MB/s\u001b[0m eta \u001b[36m0:00:00\u001b[0m\n",
            "\u001b[?25hDownloading wheel-0.45.1-py3-none-any.whl (72 kB)\n",
            "\u001b[2K   \u001b[90m━━━━━━━━━━━━━━━━━━━━━━━━━━━━━━━━━━━━━━━━\u001b[0m \u001b[32m72.5/72.5 kB\u001b[0m \u001b[31m6.4 MB/s\u001b[0m eta \u001b[36m0:00:00\u001b[0m\n",
            "\u001b[?25hInstalling collected packages: libclang, flatbuffers, wheel, werkzeug, tensorflow-io-gcs-filesystem, tensorboard-data-server, google-pasta, tensorboard, astunparse, tensorflow\n",
            "Successfully installed astunparse-1.6.3 flatbuffers-25.2.10 google-pasta-0.2.0 libclang-18.1.1 tensorboard-2.19.0 tensorboard-data-server-0.7.2 tensorflow-2.19.0 tensorflow-io-gcs-filesystem-0.37.1 werkzeug-3.1.3 wheel-0.45.1\n"
          ]
        }
      ]
    },
    {
      "cell_type": "code",
      "execution_count": 5,
      "id": "e7500ab9",
      "metadata": {
        "id": "e7500ab9"
      },
      "outputs": [],
      "source": [
        "import os\n",
        "import re\n",
        "import csv\n",
        "import nltk\n",
        "import string\n",
        "import joblib\n",
        "import kagglehub\n",
        "import numpy as np\n",
        "import pandas as pd\n",
        "import tensorflow as tf\n",
        "from sklearn.svm import SVC\n",
        "from tqdm.notebook import tqdm\n",
        "from nltk.corpus import stopwords\n",
        "from nltk.tokenize import word_tokenize\n",
        "from sklearn.metrics import accuracy_score\n",
        "from sklearn.preprocessing import LabelEncoder\n",
        "from tensorflow.keras.models import Sequential\n",
        "from sklearn.model_selection import GridSearchCV\n",
        "from sklearn.linear_model import LogisticRegression\n",
        "from sklearn.model_selection import train_test_split\n",
        "from tensorflow.keras.callbacks import EarlyStopping\n",
        "from tensorflow.keras.preprocessing.text import Tokenizer\n",
        "from Sastrawi.Stemmer.StemmerFactory import StemmerFactory\n",
        "from sklearn.feature_extraction.text import TfidfVectorizer\n",
        "from sklearn.feature_extraction.text import CountVectorizer\n",
        "from tensorflow.keras.preprocessing.sequence import pad_sequences\n",
        "from tensorflow.keras.layers import Embedding, LSTM, Dense, Dropout, SpatialDropout1D"
      ]
    },
    {
      "cell_type": "code",
      "source": [
        "nltk.download('punkt_tab')\n",
        "nltk.download('stopwords')"
      ],
      "metadata": {
        "colab": {
          "base_uri": "https://localhost:8080/"
        },
        "id": "Y0Ohi5ubJc9P",
        "outputId": "c9f51f98-bd6a-4c36-8979-e4b598530622"
      },
      "id": "Y0Ohi5ubJc9P",
      "execution_count": 6,
      "outputs": [
        {
          "output_type": "stream",
          "name": "stderr",
          "text": [
            "[nltk_data] Downloading package punkt_tab to /root/nltk_data...\n",
            "[nltk_data]   Unzipping tokenizers/punkt_tab.zip.\n",
            "[nltk_data] Downloading package stopwords to /root/nltk_data...\n",
            "[nltk_data]   Unzipping corpora/stopwords.zip.\n"
          ]
        },
        {
          "output_type": "execute_result",
          "data": {
            "text/plain": [
              "True"
            ]
          },
          "metadata": {},
          "execution_count": 6
        }
      ]
    },
    {
      "cell_type": "code",
      "source": [
        "!pip freeze > requirements.txt"
      ],
      "metadata": {
        "id": "mWsvEn31DTkX"
      },
      "id": "mWsvEn31DTkX",
      "execution_count": 7,
      "outputs": []
    },
    {
      "cell_type": "markdown",
      "source": [
        "## Loading Dataset"
      ],
      "metadata": {
        "id": "2i9r6PYilCBd"
      },
      "id": "2i9r6PYilCBd"
    },
    {
      "cell_type": "code",
      "source": [
        "df = pd.read_csv(\"/content/scrapped_data_bb.csv\")"
      ],
      "metadata": {
        "id": "JK_hU6mflNxw"
      },
      "id": "JK_hU6mflNxw",
      "execution_count": 8,
      "outputs": []
    },
    {
      "cell_type": "code",
      "source": [
        "jumlah_ulasan, jumlah_kolom = df.shape"
      ],
      "metadata": {
        "id": "6uIHKAEcnsUH"
      },
      "id": "6uIHKAEcnsUH",
      "execution_count": 9,
      "outputs": []
    },
    {
      "cell_type": "code",
      "execution_count": 10,
      "id": "2ebbbd23",
      "metadata": {
        "id": "2ebbbd23",
        "outputId": "48e841b3-b789-4735-8bd8-618f76fdba5d",
        "colab": {
          "base_uri": "https://localhost:8080/",
          "height": 0
        }
      },
      "outputs": [
        {
          "output_type": "execute_result",
          "data": {
            "text/plain": [
              "          userName  score                   at  \\\n",
              "0  Pengguna Google      5  2025-04-12 04:08:29   \n",
              "1  Pengguna Google      5  2025-03-30 14:45:35   \n",
              "2  Pengguna Google      5  2025-04-09 03:55:48   \n",
              "3  Pengguna Google      5  2025-04-13 14:30:55   \n",
              "4  Pengguna Google      5  2025-03-21 05:22:14   \n",
              "\n",
              "                                             content  \n",
              "0  game kasual seperti ini memang menyenangkan,ta...  \n",
              "1  Game simple yang membuat ketagihan.Walau banya...  \n",
              "2  jika kalian menemukan masalah blok tiba tiba d...  \n",
              "3  seruu bangett!!!, sampe ketagihan, ini juga ga...  \n",
              "4  sumpah ini game populer banget anak² satu desa...  "
            ],
            "text/html": [
              "\n",
              "  <div id=\"df-8c0333df-1c58-4f32-a34d-c5cfa2513990\" class=\"colab-df-container\">\n",
              "    <div>\n",
              "<style scoped>\n",
              "    .dataframe tbody tr th:only-of-type {\n",
              "        vertical-align: middle;\n",
              "    }\n",
              "\n",
              "    .dataframe tbody tr th {\n",
              "        vertical-align: top;\n",
              "    }\n",
              "\n",
              "    .dataframe thead th {\n",
              "        text-align: right;\n",
              "    }\n",
              "</style>\n",
              "<table border=\"1\" class=\"dataframe\">\n",
              "  <thead>\n",
              "    <tr style=\"text-align: right;\">\n",
              "      <th></th>\n",
              "      <th>userName</th>\n",
              "      <th>score</th>\n",
              "      <th>at</th>\n",
              "      <th>content</th>\n",
              "    </tr>\n",
              "  </thead>\n",
              "  <tbody>\n",
              "    <tr>\n",
              "      <th>0</th>\n",
              "      <td>Pengguna Google</td>\n",
              "      <td>5</td>\n",
              "      <td>2025-04-12 04:08:29</td>\n",
              "      <td>game kasual seperti ini memang menyenangkan,ta...</td>\n",
              "    </tr>\n",
              "    <tr>\n",
              "      <th>1</th>\n",
              "      <td>Pengguna Google</td>\n",
              "      <td>5</td>\n",
              "      <td>2025-03-30 14:45:35</td>\n",
              "      <td>Game simple yang membuat ketagihan.Walau banya...</td>\n",
              "    </tr>\n",
              "    <tr>\n",
              "      <th>2</th>\n",
              "      <td>Pengguna Google</td>\n",
              "      <td>5</td>\n",
              "      <td>2025-04-09 03:55:48</td>\n",
              "      <td>jika kalian menemukan masalah blok tiba tiba d...</td>\n",
              "    </tr>\n",
              "    <tr>\n",
              "      <th>3</th>\n",
              "      <td>Pengguna Google</td>\n",
              "      <td>5</td>\n",
              "      <td>2025-04-13 14:30:55</td>\n",
              "      <td>seruu bangett!!!, sampe ketagihan, ini juga ga...</td>\n",
              "    </tr>\n",
              "    <tr>\n",
              "      <th>4</th>\n",
              "      <td>Pengguna Google</td>\n",
              "      <td>5</td>\n",
              "      <td>2025-03-21 05:22:14</td>\n",
              "      <td>sumpah ini game populer banget anak² satu desa...</td>\n",
              "    </tr>\n",
              "  </tbody>\n",
              "</table>\n",
              "</div>\n",
              "    <div class=\"colab-df-buttons\">\n",
              "\n",
              "  <div class=\"colab-df-container\">\n",
              "    <button class=\"colab-df-convert\" onclick=\"convertToInteractive('df-8c0333df-1c58-4f32-a34d-c5cfa2513990')\"\n",
              "            title=\"Convert this dataframe to an interactive table.\"\n",
              "            style=\"display:none;\">\n",
              "\n",
              "  <svg xmlns=\"http://www.w3.org/2000/svg\" height=\"24px\" viewBox=\"0 -960 960 960\">\n",
              "    <path d=\"M120-120v-720h720v720H120Zm60-500h600v-160H180v160Zm220 220h160v-160H400v160Zm0 220h160v-160H400v160ZM180-400h160v-160H180v160Zm440 0h160v-160H620v160ZM180-180h160v-160H180v160Zm440 0h160v-160H620v160Z\"/>\n",
              "  </svg>\n",
              "    </button>\n",
              "\n",
              "  <style>\n",
              "    .colab-df-container {\n",
              "      display:flex;\n",
              "      gap: 12px;\n",
              "    }\n",
              "\n",
              "    .colab-df-convert {\n",
              "      background-color: #E8F0FE;\n",
              "      border: none;\n",
              "      border-radius: 50%;\n",
              "      cursor: pointer;\n",
              "      display: none;\n",
              "      fill: #1967D2;\n",
              "      height: 32px;\n",
              "      padding: 0 0 0 0;\n",
              "      width: 32px;\n",
              "    }\n",
              "\n",
              "    .colab-df-convert:hover {\n",
              "      background-color: #E2EBFA;\n",
              "      box-shadow: 0px 1px 2px rgba(60, 64, 67, 0.3), 0px 1px 3px 1px rgba(60, 64, 67, 0.15);\n",
              "      fill: #174EA6;\n",
              "    }\n",
              "\n",
              "    .colab-df-buttons div {\n",
              "      margin-bottom: 4px;\n",
              "    }\n",
              "\n",
              "    [theme=dark] .colab-df-convert {\n",
              "      background-color: #3B4455;\n",
              "      fill: #D2E3FC;\n",
              "    }\n",
              "\n",
              "    [theme=dark] .colab-df-convert:hover {\n",
              "      background-color: #434B5C;\n",
              "      box-shadow: 0px 1px 3px 1px rgba(0, 0, 0, 0.15);\n",
              "      filter: drop-shadow(0px 1px 2px rgba(0, 0, 0, 0.3));\n",
              "      fill: #FFFFFF;\n",
              "    }\n",
              "  </style>\n",
              "\n",
              "    <script>\n",
              "      const buttonEl =\n",
              "        document.querySelector('#df-8c0333df-1c58-4f32-a34d-c5cfa2513990 button.colab-df-convert');\n",
              "      buttonEl.style.display =\n",
              "        google.colab.kernel.accessAllowed ? 'block' : 'none';\n",
              "\n",
              "      async function convertToInteractive(key) {\n",
              "        const element = document.querySelector('#df-8c0333df-1c58-4f32-a34d-c5cfa2513990');\n",
              "        const dataTable =\n",
              "          await google.colab.kernel.invokeFunction('convertToInteractive',\n",
              "                                                    [key], {});\n",
              "        if (!dataTable) return;\n",
              "\n",
              "        const docLinkHtml = 'Like what you see? Visit the ' +\n",
              "          '<a target=\"_blank\" href=https://colab.research.google.com/notebooks/data_table.ipynb>data table notebook</a>'\n",
              "          + ' to learn more about interactive tables.';\n",
              "        element.innerHTML = '';\n",
              "        dataTable['output_type'] = 'display_data';\n",
              "        await google.colab.output.renderOutput(dataTable, element);\n",
              "        const docLink = document.createElement('div');\n",
              "        docLink.innerHTML = docLinkHtml;\n",
              "        element.appendChild(docLink);\n",
              "      }\n",
              "    </script>\n",
              "  </div>\n",
              "\n",
              "\n",
              "<div id=\"df-93d87cf9-5323-4f80-9192-e59f767c79fa\">\n",
              "  <button class=\"colab-df-quickchart\" onclick=\"quickchart('df-93d87cf9-5323-4f80-9192-e59f767c79fa')\"\n",
              "            title=\"Suggest charts\"\n",
              "            style=\"display:none;\">\n",
              "\n",
              "<svg xmlns=\"http://www.w3.org/2000/svg\" height=\"24px\"viewBox=\"0 0 24 24\"\n",
              "     width=\"24px\">\n",
              "    <g>\n",
              "        <path d=\"M19 3H5c-1.1 0-2 .9-2 2v14c0 1.1.9 2 2 2h14c1.1 0 2-.9 2-2V5c0-1.1-.9-2-2-2zM9 17H7v-7h2v7zm4 0h-2V7h2v10zm4 0h-2v-4h2v4z\"/>\n",
              "    </g>\n",
              "</svg>\n",
              "  </button>\n",
              "\n",
              "<style>\n",
              "  .colab-df-quickchart {\n",
              "      --bg-color: #E8F0FE;\n",
              "      --fill-color: #1967D2;\n",
              "      --hover-bg-color: #E2EBFA;\n",
              "      --hover-fill-color: #174EA6;\n",
              "      --disabled-fill-color: #AAA;\n",
              "      --disabled-bg-color: #DDD;\n",
              "  }\n",
              "\n",
              "  [theme=dark] .colab-df-quickchart {\n",
              "      --bg-color: #3B4455;\n",
              "      --fill-color: #D2E3FC;\n",
              "      --hover-bg-color: #434B5C;\n",
              "      --hover-fill-color: #FFFFFF;\n",
              "      --disabled-bg-color: #3B4455;\n",
              "      --disabled-fill-color: #666;\n",
              "  }\n",
              "\n",
              "  .colab-df-quickchart {\n",
              "    background-color: var(--bg-color);\n",
              "    border: none;\n",
              "    border-radius: 50%;\n",
              "    cursor: pointer;\n",
              "    display: none;\n",
              "    fill: var(--fill-color);\n",
              "    height: 32px;\n",
              "    padding: 0;\n",
              "    width: 32px;\n",
              "  }\n",
              "\n",
              "  .colab-df-quickchart:hover {\n",
              "    background-color: var(--hover-bg-color);\n",
              "    box-shadow: 0 1px 2px rgba(60, 64, 67, 0.3), 0 1px 3px 1px rgba(60, 64, 67, 0.15);\n",
              "    fill: var(--button-hover-fill-color);\n",
              "  }\n",
              "\n",
              "  .colab-df-quickchart-complete:disabled,\n",
              "  .colab-df-quickchart-complete:disabled:hover {\n",
              "    background-color: var(--disabled-bg-color);\n",
              "    fill: var(--disabled-fill-color);\n",
              "    box-shadow: none;\n",
              "  }\n",
              "\n",
              "  .colab-df-spinner {\n",
              "    border: 2px solid var(--fill-color);\n",
              "    border-color: transparent;\n",
              "    border-bottom-color: var(--fill-color);\n",
              "    animation:\n",
              "      spin 1s steps(1) infinite;\n",
              "  }\n",
              "\n",
              "  @keyframes spin {\n",
              "    0% {\n",
              "      border-color: transparent;\n",
              "      border-bottom-color: var(--fill-color);\n",
              "      border-left-color: var(--fill-color);\n",
              "    }\n",
              "    20% {\n",
              "      border-color: transparent;\n",
              "      border-left-color: var(--fill-color);\n",
              "      border-top-color: var(--fill-color);\n",
              "    }\n",
              "    30% {\n",
              "      border-color: transparent;\n",
              "      border-left-color: var(--fill-color);\n",
              "      border-top-color: var(--fill-color);\n",
              "      border-right-color: var(--fill-color);\n",
              "    }\n",
              "    40% {\n",
              "      border-color: transparent;\n",
              "      border-right-color: var(--fill-color);\n",
              "      border-top-color: var(--fill-color);\n",
              "    }\n",
              "    60% {\n",
              "      border-color: transparent;\n",
              "      border-right-color: var(--fill-color);\n",
              "    }\n",
              "    80% {\n",
              "      border-color: transparent;\n",
              "      border-right-color: var(--fill-color);\n",
              "      border-bottom-color: var(--fill-color);\n",
              "    }\n",
              "    90% {\n",
              "      border-color: transparent;\n",
              "      border-bottom-color: var(--fill-color);\n",
              "    }\n",
              "  }\n",
              "</style>\n",
              "\n",
              "  <script>\n",
              "    async function quickchart(key) {\n",
              "      const quickchartButtonEl =\n",
              "        document.querySelector('#' + key + ' button');\n",
              "      quickchartButtonEl.disabled = true;  // To prevent multiple clicks.\n",
              "      quickchartButtonEl.classList.add('colab-df-spinner');\n",
              "      try {\n",
              "        const charts = await google.colab.kernel.invokeFunction(\n",
              "            'suggestCharts', [key], {});\n",
              "      } catch (error) {\n",
              "        console.error('Error during call to suggestCharts:', error);\n",
              "      }\n",
              "      quickchartButtonEl.classList.remove('colab-df-spinner');\n",
              "      quickchartButtonEl.classList.add('colab-df-quickchart-complete');\n",
              "    }\n",
              "    (() => {\n",
              "      let quickchartButtonEl =\n",
              "        document.querySelector('#df-93d87cf9-5323-4f80-9192-e59f767c79fa button');\n",
              "      quickchartButtonEl.style.display =\n",
              "        google.colab.kernel.accessAllowed ? 'block' : 'none';\n",
              "    })();\n",
              "  </script>\n",
              "</div>\n",
              "\n",
              "    </div>\n",
              "  </div>\n"
            ],
            "application/vnd.google.colaboratory.intrinsic+json": {
              "type": "dataframe",
              "variable_name": "df",
              "summary": "{\n  \"name\": \"df\",\n  \"rows\": 20000,\n  \"fields\": [\n    {\n      \"column\": \"userName\",\n      \"properties\": {\n        \"dtype\": \"category\",\n        \"num_unique_values\": 1990,\n        \"samples\": [\n          \"Rifki ALGHIFARI\",\n          \"Kanza Trisulla\",\n          \"Nenah Herawati\"\n        ],\n        \"semantic_type\": \"\",\n        \"description\": \"\"\n      }\n    },\n    {\n      \"column\": \"score\",\n      \"properties\": {\n        \"dtype\": \"number\",\n        \"std\": 1,\n        \"min\": 1,\n        \"max\": 5,\n        \"num_unique_values\": 5,\n        \"samples\": [\n          3,\n          1,\n          4\n        ],\n        \"semantic_type\": \"\",\n        \"description\": \"\"\n      }\n    },\n    {\n      \"column\": \"at\",\n      \"properties\": {\n        \"dtype\": \"object\",\n        \"num_unique_values\": 19957,\n        \"samples\": [\n          \"2025-03-19 21:22:34\",\n          \"2025-03-10 04:01:19\",\n          \"2025-04-11 12:32:27\"\n        ],\n        \"semantic_type\": \"\",\n        \"description\": \"\"\n      }\n    },\n    {\n      \"column\": \"content\",\n      \"properties\": {\n        \"dtype\": \"string\",\n        \"num_unique_values\": 18549,\n        \"samples\": [\n          \"game nya lumayan cakep sehingga banyak artis yg di luar sana bermain game ini\",\n          \"ko yg Laen blok blast nya angka nya kaya ada warna nya tapi ko saga ga ya\",\n          \"ini mah game gabut aku suka game gabut\"\n        ],\n        \"semantic_type\": \"\",\n        \"description\": \"\"\n      }\n    }\n  ]\n}"
            }
          },
          "metadata": {},
          "execution_count": 10
        }
      ],
      "source": [
        "df.head()"
      ]
    },
    {
      "cell_type": "code",
      "execution_count": 11,
      "id": "13bdb033",
      "metadata": {
        "id": "13bdb033",
        "outputId": "5e41c38f-715e-4f6e-c690-fac88a7ffe75",
        "colab": {
          "base_uri": "https://localhost:8080/"
        }
      },
      "outputs": [
        {
          "output_type": "execute_result",
          "data": {
            "text/plain": [
              "Index(['userName', 'score', 'at', 'content'], dtype='object')"
            ]
          },
          "metadata": {},
          "execution_count": 11
        }
      ],
      "source": [
        "df.columns"
      ]
    },
    {
      "cell_type": "code",
      "source": [
        "df.info()"
      ],
      "metadata": {
        "colab": {
          "base_uri": "https://localhost:8080/"
        },
        "id": "358a9dHkksTg",
        "outputId": "afac3aef-3949-470d-9217-1f7fc08797aa"
      },
      "id": "358a9dHkksTg",
      "execution_count": 12,
      "outputs": [
        {
          "output_type": "stream",
          "name": "stdout",
          "text": [
            "<class 'pandas.core.frame.DataFrame'>\n",
            "RangeIndex: 20000 entries, 0 to 19999\n",
            "Data columns (total 4 columns):\n",
            " #   Column    Non-Null Count  Dtype \n",
            "---  ------    --------------  ----- \n",
            " 0   userName  20000 non-null  object\n",
            " 1   score     20000 non-null  int64 \n",
            " 2   at        20000 non-null  object\n",
            " 3   content   19999 non-null  object\n",
            "dtypes: int64(1), object(3)\n",
            "memory usage: 625.1+ KB\n"
          ]
        }
      ]
    },
    {
      "cell_type": "code",
      "source": [
        "# Membuat dataframe baru dan menghapus data bernilai NaN\n",
        "clean_df = df.dropna()"
      ],
      "metadata": {
        "id": "HeQLj_41kv1k"
      },
      "id": "HeQLj_41kv1k",
      "execution_count": 13,
      "outputs": []
    },
    {
      "cell_type": "code",
      "source": [
        "# Menghapus baris duplikat\n",
        "clean_df = clean_df.drop_duplicates()\n",
        "\n",
        "# Menghitung jumlah baris dan kolom\n",
        "jumlah_ulasan_setelah_hapus_duplikat, jumlah_kolom_setelah_hapus_duplikat = clean_df.shape"
      ],
      "metadata": {
        "id": "ksLgUhRRlHZz"
      },
      "id": "ksLgUhRRlHZz",
      "execution_count": 14,
      "outputs": []
    },
    {
      "cell_type": "markdown",
      "source": [
        "## Preprocessing Text"
      ],
      "metadata": {
        "id": "8N-lIrPolQYJ"
      },
      "id": "8N-lIrPolQYJ"
    },
    {
      "cell_type": "code",
      "source": [
        "def cleaningText(text):\n",
        "    text = re.sub(r'@[A-Za-z0-9]+', '', text) # menghapus mention\n",
        "    text = re.sub(r'#[A-Za-z0-9]+', '', text) # menghapus hashtag\n",
        "    text = re.sub(r'RT[\\s]', '', text) # menghapus RT\n",
        "    text = re.sub(r\"http\\S+\", '', text) # menghapus link\n",
        "    text = re.sub(r'[0-9]+', '', text) # menghapus angka\n",
        "    text = re.sub(r'[^\\w\\s]', '', text) # menghapus karakter selain huruf dan angka\n",
        "\n",
        "    text = text.replace('\\n', ' ') # mengganti baris baru dengan spasi\n",
        "    text = text.translate(str.maketrans('', '', string.punctuation)) # menghapus semua tanda baca\n",
        "    text = text.strip(' ') # menghapus karakter spasi dari kiri dan kanan teks\n",
        "    return text\n",
        "\n",
        "def casefoldingText(text): # Mengubah semua karakter dalam teks menjadi huruf kecil\n",
        "    text = text.lower()\n",
        "    return text\n",
        "\n",
        "def tokenizingText(text): # Memecah atau membagi string, teks menjadi daftar token\n",
        "    text = word_tokenize(text)\n",
        "    return text\n",
        "\n",
        "def filteringText(text): # Menghapus stopwords dalam teks\n",
        "    listStopwords = set(stopwords.words('indonesian'))\n",
        "    listStopwords1 = set(stopwords.words('english'))\n",
        "    listStopwords.update(listStopwords1)\n",
        "    listStopwords.update(['iya','yaa','gak','nya','na','sih','ku',\"di\",\"ga\",\"ya\",\"gaa\",\"loh\",\"kah\",\"woi\",\"woii\",\"woy\"])\n",
        "    filtered = []\n",
        "    for txt in text:\n",
        "        if txt not in listStopwords:\n",
        "            filtered.append(txt)\n",
        "    text = filtered\n",
        "    return text\n",
        "\n",
        "def stemmingText(tokens):\n",
        "    factory = StemmerFactory()\n",
        "    stemmer = factory.create_stemmer()\n",
        "    stemmed_words = [stemmer.stem(word) for word in tokens]\n",
        "    return stemmed_words\n",
        "\n",
        "def toSentence(list_words): # Mengubah daftar kata menjadi kalimat\n",
        "    sentence = ' '.join(word for word in list_words)\n",
        "    return sentence"
      ],
      "metadata": {
        "id": "ljA_TFJ6j66l"
      },
      "id": "ljA_TFJ6j66l",
      "execution_count": 15,
      "outputs": []
    },
    {
      "cell_type": "markdown",
      "source": [
        "Dari 20000 sampel data ulasan ini pasti banyak penggunaan kata slang bahasa Indonesia dan tidak bisa dicek satu per satu karena memakan waktu yang lama. Oleh karena itu saya menggunakan dataset slang words bahasa Indonesia dari kaggle. Link dataset dapat dilihat [di sini](https://www.kaggle.com/datasets/sodolanangbjkatio/slang-indonesia?resource=download)."
      ],
      "metadata": {
        "id": "51khWMdqG_HL"
      },
      "id": "51khWMdqG_HL"
    },
    {
      "cell_type": "code",
      "source": [
        "path = kagglehub.dataset_download(\"sodolanangbjkatio/slang-indonesia\")\n",
        "\n",
        "print(\"Path to dataset files:\", path)"
      ],
      "metadata": {
        "colab": {
          "base_uri": "https://localhost:8080/"
        },
        "id": "gOWCDBDNG5aF",
        "outputId": "56024354-5d9a-48f8-b6f9-0c37fc19239b"
      },
      "id": "gOWCDBDNG5aF",
      "execution_count": 16,
      "outputs": [
        {
          "output_type": "stream",
          "name": "stdout",
          "text": [
            "Downloading from https://www.kaggle.com/api/v1/datasets/download/sodolanangbjkatio/slang-indonesia?dataset_version_number=1...\n"
          ]
        },
        {
          "output_type": "stream",
          "name": "stderr",
          "text": [
            "100%|██████████| 6.72k/6.72k [00:00<00:00, 8.76MB/s]"
          ]
        },
        {
          "output_type": "stream",
          "name": "stdout",
          "text": [
            "Extracting files...\n",
            "Path to dataset files: /root/.cache/kagglehub/datasets/sodolanangbjkatio/slang-indonesia/versions/1\n"
          ]
        },
        {
          "output_type": "stream",
          "name": "stderr",
          "text": [
            "\n"
          ]
        }
      ]
    },
    {
      "cell_type": "code",
      "source": [
        "file_path = os.path.join(path, \"slang_indo.csv\")\n",
        "\n",
        "# Membuat dataframe untuk slangwords bahasa Indonesia\n",
        "slangwords_df = pd.read_csv(file_path, header=None, names=[\"slang\", \"formal\"])\n",
        "\n",
        "slangwords = dict(zip(slangwords_df['slang'].str.lower(), slangwords_df['formal'].str.lower()))"
      ],
      "metadata": {
        "id": "tu-0wKF5ITr7"
      },
      "id": "tu-0wKF5ITr7",
      "execution_count": 17,
      "outputs": []
    },
    {
      "cell_type": "code",
      "source": [
        "def fix_slangwords(text):\n",
        "    words = text.split()\n",
        "    fixed_words = []\n",
        "\n",
        "    for word in words:\n",
        "        if word.lower() in slangwords:\n",
        "            fixed_words.append(slangwords[word.lower()])\n",
        "        else:\n",
        "            fixed_words.append(word)\n",
        "\n",
        "    fixed_text = ' '.join(fixed_words)\n",
        "    return fixed_text"
      ],
      "metadata": {
        "id": "7zL8FrAYliwp"
      },
      "id": "7zL8FrAYliwp",
      "execution_count": 18,
      "outputs": []
    },
    {
      "cell_type": "code",
      "source": [
        "tqdm.pandas()\n",
        "\n",
        "# 1. Membersihkan teks\n",
        "clean_df['text_clean'] = clean_df['content'].apply(cleaningText)\n",
        "\n",
        "# 2. Case folding\n",
        "clean_df['text_casefoldingText'] = clean_df['text_clean'].apply(casefoldingText)\n",
        "\n",
        "# 3. Fix slangwords\n",
        "clean_df['text_slangwords'] = clean_df['text_casefoldingText'].apply(fix_slangwords)\n",
        "\n",
        "# 4. Tokenisasi\n",
        "clean_df['text_tokenizingText'] = clean_df['text_slangwords'].apply(tokenizingText)\n",
        "\n",
        "# 5. Filtering stopwords\n",
        "clean_df['text_stopword'] = clean_df['text_tokenizingText'].apply(filteringText)\n",
        "\n",
        "# 6. Stemming\n",
        "clean_df['text_stemming'] = clean_df['text_stopword'].progress_apply(stemmingText)\n",
        "\n",
        "# 7. Gabung token jadi kalimat\n",
        "clean_df['text_akhir'] = clean_df['text_stemming'].apply(toSentence)\n",
        "\n",
        "# 8. Drop duplikat berdasarkan content\n",
        "clean_df.drop_duplicates(subset=['content'], inplace=True)"
      ],
      "metadata": {
        "id": "T4K8JlWDlmLC",
        "colab": {
          "base_uri": "https://localhost:8080/",
          "height": 49,
          "referenced_widgets": [
            "dfbdaddec3ed4e94bf44201a3710d093",
            "a3bbf382fdc14e0c94a09acedf843c4c",
            "cc04eccecbd9459aa96d427ff7284276",
            "90a2fea0bcd14e4aa675d25d2c6b1ab2",
            "74e71c9039d844dea70f7ea8406c638c",
            "6e40d72efed34de9b228127afcf0ecee",
            "880693f79edc45f383b4288fbb8167a7",
            "4506947ea26a4d50a10015969c467c03",
            "034db56bb30e43bf91bb1783e4b11b6d",
            "166a626b61cd411097429f5a1332675d",
            "9d12649a7bb541b99b53cc4418697ed8"
          ]
        },
        "outputId": "c2b96d02-6d05-46fa-94e9-1e8383284620"
      },
      "id": "T4K8JlWDlmLC",
      "execution_count": 19,
      "outputs": [
        {
          "output_type": "display_data",
          "data": {
            "text/plain": [
              "  0%|          | 0/19999 [00:00<?, ?it/s]"
            ],
            "application/vnd.jupyter.widget-view+json": {
              "version_major": 2,
              "version_minor": 0,
              "model_id": "dfbdaddec3ed4e94bf44201a3710d093"
            }
          },
          "metadata": {}
        }
      ]
    },
    {
      "cell_type": "code",
      "source": [
        "# Hapus duplikat data setelah dibersihkan\n",
        "clean_df.drop_duplicates(subset=['content'], inplace=True)"
      ],
      "metadata": {
        "id": "NWm9pM6GdYjK"
      },
      "id": "NWm9pM6GdYjK",
      "execution_count": 20,
      "outputs": []
    },
    {
      "cell_type": "markdown",
      "source": [
        "## Pelabelan"
      ],
      "metadata": {
        "id": "X9eiDCvplpjy"
      },
      "id": "X9eiDCvplpjy"
    },
    {
      "cell_type": "markdown",
      "source": [
        "Untuk mempermudah pelabelan, saya menggunakan cara pelabelan berdasarkan score (rating aplikasi) sebagai berikut:\n",
        "\n",
        "\n",
        "*   Score 1-2 = Negatif\n",
        "*   Score 3 = Netral\n",
        "*   Score 4-5 = Positif\n",
        "\n"
      ],
      "metadata": {
        "id": "L9CMGODTjyMA"
      },
      "id": "L9CMGODTjyMA"
    },
    {
      "cell_type": "code",
      "source": [
        "def label_sentiment_from_score(score):\n",
        "    if score >= 4:\n",
        "        return 'Positif'\n",
        "    elif score == 3:\n",
        "        return 'Netral'\n",
        "    else:\n",
        "        return 'Negatif'\n",
        "\n",
        "clean_df['sentiment_label'] = clean_df['score'].apply(label_sentiment_from_score)\n",
        "print(clean_df['sentiment_label'].value_counts())"
      ],
      "metadata": {
        "colab": {
          "base_uri": "https://localhost:8080/"
        },
        "id": "xMV21ydIBMKZ",
        "outputId": "f2a4ed4a-d895-49d6-f3ec-fc34358b6279"
      },
      "id": "xMV21ydIBMKZ",
      "execution_count": 21,
      "outputs": [
        {
          "output_type": "stream",
          "name": "stdout",
          "text": [
            "sentiment_label\n",
            "Positif    15876\n",
            "Negatif     2067\n",
            "Netral       606\n",
            "Name: count, dtype: int64\n"
          ]
        }
      ]
    },
    {
      "cell_type": "code",
      "source": [
        "clean_df.head()"
      ],
      "metadata": {
        "colab": {
          "base_uri": "https://localhost:8080/",
          "height": 452
        },
        "id": "ikd7BzZGGsdM",
        "outputId": "f54fe660-571f-4d2a-da31-ccab5208172f"
      },
      "id": "ikd7BzZGGsdM",
      "execution_count": 22,
      "outputs": [
        {
          "output_type": "execute_result",
          "data": {
            "text/plain": [
              "          userName  score                   at  \\\n",
              "0  Pengguna Google      5  2025-04-12 04:08:29   \n",
              "1  Pengguna Google      5  2025-03-30 14:45:35   \n",
              "2  Pengguna Google      5  2025-04-09 03:55:48   \n",
              "3  Pengguna Google      5  2025-04-13 14:30:55   \n",
              "4  Pengguna Google      5  2025-03-21 05:22:14   \n",
              "\n",
              "                                             content  \\\n",
              "0  game kasual seperti ini memang menyenangkan,ta...   \n",
              "1  Game simple yang membuat ketagihan.Walau banya...   \n",
              "2  jika kalian menemukan masalah blok tiba tiba d...   \n",
              "3  seruu bangett!!!, sampe ketagihan, ini juga ga...   \n",
              "4  sumpah ini game populer banget anak² satu desa...   \n",
              "\n",
              "                                          text_clean  \\\n",
              "0  game kasual seperti ini memang menyenangkantap...   \n",
              "1  Game simple yang membuat ketagihanWalau banyak...   \n",
              "2  jika kalian menemukan masalah blok tiba tiba d...   \n",
              "3  seruu bangett sampe ketagihan ini juga game ny...   \n",
              "4  sumpah ini game populer banget anak² satu desa...   \n",
              "\n",
              "                                text_casefoldingText  \\\n",
              "0  game kasual seperti ini memang menyenangkantap...   \n",
              "1  game simple yang membuat ketagihanwalau banyak...   \n",
              "2  jika kalian menemukan masalah blok tiba tiba d...   \n",
              "3  seruu bangett sampe ketagihan ini juga game ny...   \n",
              "4  sumpah ini game populer banget anak² satu desa...   \n",
              "\n",
              "                                     text_slangwords  \\\n",
              "0  game kasual seperti ini memang menyenangkantap...   \n",
              "1  game simple yang membuat ketagihanwalau banyak...   \n",
              "2  jika kalian menemukan masalah blok tiba tiba d...   \n",
              "3  seruu sangat  sampai ketagihan ini juga game n...   \n",
              "4  sumpah ini game populer sekali  anak² satu des...   \n",
              "\n",
              "                                 text_tokenizingText  \\\n",
              "0  [game, kasual, seperti, ini, memang, menyenang...   \n",
              "1  [game, simple, yang, membuat, ketagihanwalau, ...   \n",
              "2  [jika, kalian, menemukan, masalah, blok, tiba,...   \n",
              "3  [seruu, sangat, sampai, ketagihan, ini, juga, ...   \n",
              "4  [sumpah, ini, game, populer, sekali, anak², sa...   \n",
              "\n",
              "                                       text_stopword  \\\n",
              "0  [game, kasual, menyenangkantapi, masukan, pema...   \n",
              "1  [game, simple, ketagihanwalau, game, konsep, g...   \n",
              "2  [menemukan, blok, kasih, jelek, pas, pasin, po...   \n",
              "3  [seruu, ketagihan, game, offline, diluar, puls...   \n",
              "4  [sumpah, game, populer, anak², desa, susah, si...   \n",
              "\n",
              "                                       text_stemming  \\\n",
              "0  [game, kasual, menyenangkantapi, masuk, main, ...   \n",
              "1  [game, simple, ketagihanwalau, game, konsep, g...   \n",
              "2  [temu, blok, kasih, jelek, pas, pasin, pokok, ...   \n",
              "3  [seruu, tagih, game, offline, luar, pulsa, mai...   \n",
              "4  [sumpah, game, populer, anak, desa, susah, sin...   \n",
              "\n",
              "                                          text_akhir sentiment_label  \n",
              "0  game kasual menyenangkantapi masuk main komuni...         Positif  \n",
              "1  game simple ketagihanwalau game konsep game bl...         Positif  \n",
              "2  temu blok kasih jelek pas pasin pokok fokus bl...         Positif  \n",
              "3  seruu tagih game offline luar pulsa main ini p...         Positif  \n",
              "4  sumpah game populer anak desa susah sinyal ngu...         Positif  "
            ],
            "text/html": [
              "\n",
              "  <div id=\"df-c1be42c4-ed48-4e0e-867d-5351696a26d7\" class=\"colab-df-container\">\n",
              "    <div>\n",
              "<style scoped>\n",
              "    .dataframe tbody tr th:only-of-type {\n",
              "        vertical-align: middle;\n",
              "    }\n",
              "\n",
              "    .dataframe tbody tr th {\n",
              "        vertical-align: top;\n",
              "    }\n",
              "\n",
              "    .dataframe thead th {\n",
              "        text-align: right;\n",
              "    }\n",
              "</style>\n",
              "<table border=\"1\" class=\"dataframe\">\n",
              "  <thead>\n",
              "    <tr style=\"text-align: right;\">\n",
              "      <th></th>\n",
              "      <th>userName</th>\n",
              "      <th>score</th>\n",
              "      <th>at</th>\n",
              "      <th>content</th>\n",
              "      <th>text_clean</th>\n",
              "      <th>text_casefoldingText</th>\n",
              "      <th>text_slangwords</th>\n",
              "      <th>text_tokenizingText</th>\n",
              "      <th>text_stopword</th>\n",
              "      <th>text_stemming</th>\n",
              "      <th>text_akhir</th>\n",
              "      <th>sentiment_label</th>\n",
              "    </tr>\n",
              "  </thead>\n",
              "  <tbody>\n",
              "    <tr>\n",
              "      <th>0</th>\n",
              "      <td>Pengguna Google</td>\n",
              "      <td>5</td>\n",
              "      <td>2025-04-12 04:08:29</td>\n",
              "      <td>game kasual seperti ini memang menyenangkan,ta...</td>\n",
              "      <td>game kasual seperti ini memang menyenangkantap...</td>\n",
              "      <td>game kasual seperti ini memang menyenangkantap...</td>\n",
              "      <td>game kasual seperti ini memang menyenangkantap...</td>\n",
              "      <td>[game, kasual, seperti, ini, memang, menyenang...</td>\n",
              "      <td>[game, kasual, menyenangkantapi, masukan, pema...</td>\n",
              "      <td>[game, kasual, menyenangkantapi, masuk, main, ...</td>\n",
              "      <td>game kasual menyenangkantapi masuk main komuni...</td>\n",
              "      <td>Positif</td>\n",
              "    </tr>\n",
              "    <tr>\n",
              "      <th>1</th>\n",
              "      <td>Pengguna Google</td>\n",
              "      <td>5</td>\n",
              "      <td>2025-03-30 14:45:35</td>\n",
              "      <td>Game simple yang membuat ketagihan.Walau banya...</td>\n",
              "      <td>Game simple yang membuat ketagihanWalau banyak...</td>\n",
              "      <td>game simple yang membuat ketagihanwalau banyak...</td>\n",
              "      <td>game simple yang membuat ketagihanwalau banyak...</td>\n",
              "      <td>[game, simple, yang, membuat, ketagihanwalau, ...</td>\n",
              "      <td>[game, simple, ketagihanwalau, game, konsep, g...</td>\n",
              "      <td>[game, simple, ketagihanwalau, game, konsep, g...</td>\n",
              "      <td>game simple ketagihanwalau game konsep game bl...</td>\n",
              "      <td>Positif</td>\n",
              "    </tr>\n",
              "    <tr>\n",
              "      <th>2</th>\n",
              "      <td>Pengguna Google</td>\n",
              "      <td>5</td>\n",
              "      <td>2025-04-09 03:55:48</td>\n",
              "      <td>jika kalian menemukan masalah blok tiba tiba d...</td>\n",
              "      <td>jika kalian menemukan masalah blok tiba tiba d...</td>\n",
              "      <td>jika kalian menemukan masalah blok tiba tiba d...</td>\n",
              "      <td>jika kalian menemukan masalah blok tiba tiba d...</td>\n",
              "      <td>[jika, kalian, menemukan, masalah, blok, tiba,...</td>\n",
              "      <td>[menemukan, blok, kasih, jelek, pas, pasin, po...</td>\n",
              "      <td>[temu, blok, kasih, jelek, pas, pasin, pokok, ...</td>\n",
              "      <td>temu blok kasih jelek pas pasin pokok fokus bl...</td>\n",
              "      <td>Positif</td>\n",
              "    </tr>\n",
              "    <tr>\n",
              "      <th>3</th>\n",
              "      <td>Pengguna Google</td>\n",
              "      <td>5</td>\n",
              "      <td>2025-04-13 14:30:55</td>\n",
              "      <td>seruu bangett!!!, sampe ketagihan, ini juga ga...</td>\n",
              "      <td>seruu bangett sampe ketagihan ini juga game ny...</td>\n",
              "      <td>seruu bangett sampe ketagihan ini juga game ny...</td>\n",
              "      <td>seruu sangat  sampai ketagihan ini juga game n...</td>\n",
              "      <td>[seruu, sangat, sampai, ketagihan, ini, juga, ...</td>\n",
              "      <td>[seruu, ketagihan, game, offline, diluar, puls...</td>\n",
              "      <td>[seruu, tagih, game, offline, luar, pulsa, mai...</td>\n",
              "      <td>seruu tagih game offline luar pulsa main ini p...</td>\n",
              "      <td>Positif</td>\n",
              "    </tr>\n",
              "    <tr>\n",
              "      <th>4</th>\n",
              "      <td>Pengguna Google</td>\n",
              "      <td>5</td>\n",
              "      <td>2025-03-21 05:22:14</td>\n",
              "      <td>sumpah ini game populer banget anak² satu desa...</td>\n",
              "      <td>sumpah ini game populer banget anak² satu desa...</td>\n",
              "      <td>sumpah ini game populer banget anak² satu desa...</td>\n",
              "      <td>sumpah ini game populer sekali  anak² satu des...</td>\n",
              "      <td>[sumpah, ini, game, populer, sekali, anak², sa...</td>\n",
              "      <td>[sumpah, game, populer, anak², desa, susah, si...</td>\n",
              "      <td>[sumpah, game, populer, anak, desa, susah, sin...</td>\n",
              "      <td>sumpah game populer anak desa susah sinyal ngu...</td>\n",
              "      <td>Positif</td>\n",
              "    </tr>\n",
              "  </tbody>\n",
              "</table>\n",
              "</div>\n",
              "    <div class=\"colab-df-buttons\">\n",
              "\n",
              "  <div class=\"colab-df-container\">\n",
              "    <button class=\"colab-df-convert\" onclick=\"convertToInteractive('df-c1be42c4-ed48-4e0e-867d-5351696a26d7')\"\n",
              "            title=\"Convert this dataframe to an interactive table.\"\n",
              "            style=\"display:none;\">\n",
              "\n",
              "  <svg xmlns=\"http://www.w3.org/2000/svg\" height=\"24px\" viewBox=\"0 -960 960 960\">\n",
              "    <path d=\"M120-120v-720h720v720H120Zm60-500h600v-160H180v160Zm220 220h160v-160H400v160Zm0 220h160v-160H400v160ZM180-400h160v-160H180v160Zm440 0h160v-160H620v160ZM180-180h160v-160H180v160Zm440 0h160v-160H620v160Z\"/>\n",
              "  </svg>\n",
              "    </button>\n",
              "\n",
              "  <style>\n",
              "    .colab-df-container {\n",
              "      display:flex;\n",
              "      gap: 12px;\n",
              "    }\n",
              "\n",
              "    .colab-df-convert {\n",
              "      background-color: #E8F0FE;\n",
              "      border: none;\n",
              "      border-radius: 50%;\n",
              "      cursor: pointer;\n",
              "      display: none;\n",
              "      fill: #1967D2;\n",
              "      height: 32px;\n",
              "      padding: 0 0 0 0;\n",
              "      width: 32px;\n",
              "    }\n",
              "\n",
              "    .colab-df-convert:hover {\n",
              "      background-color: #E2EBFA;\n",
              "      box-shadow: 0px 1px 2px rgba(60, 64, 67, 0.3), 0px 1px 3px 1px rgba(60, 64, 67, 0.15);\n",
              "      fill: #174EA6;\n",
              "    }\n",
              "\n",
              "    .colab-df-buttons div {\n",
              "      margin-bottom: 4px;\n",
              "    }\n",
              "\n",
              "    [theme=dark] .colab-df-convert {\n",
              "      background-color: #3B4455;\n",
              "      fill: #D2E3FC;\n",
              "    }\n",
              "\n",
              "    [theme=dark] .colab-df-convert:hover {\n",
              "      background-color: #434B5C;\n",
              "      box-shadow: 0px 1px 3px 1px rgba(0, 0, 0, 0.15);\n",
              "      filter: drop-shadow(0px 1px 2px rgba(0, 0, 0, 0.3));\n",
              "      fill: #FFFFFF;\n",
              "    }\n",
              "  </style>\n",
              "\n",
              "    <script>\n",
              "      const buttonEl =\n",
              "        document.querySelector('#df-c1be42c4-ed48-4e0e-867d-5351696a26d7 button.colab-df-convert');\n",
              "      buttonEl.style.display =\n",
              "        google.colab.kernel.accessAllowed ? 'block' : 'none';\n",
              "\n",
              "      async function convertToInteractive(key) {\n",
              "        const element = document.querySelector('#df-c1be42c4-ed48-4e0e-867d-5351696a26d7');\n",
              "        const dataTable =\n",
              "          await google.colab.kernel.invokeFunction('convertToInteractive',\n",
              "                                                    [key], {});\n",
              "        if (!dataTable) return;\n",
              "\n",
              "        const docLinkHtml = 'Like what you see? Visit the ' +\n",
              "          '<a target=\"_blank\" href=https://colab.research.google.com/notebooks/data_table.ipynb>data table notebook</a>'\n",
              "          + ' to learn more about interactive tables.';\n",
              "        element.innerHTML = '';\n",
              "        dataTable['output_type'] = 'display_data';\n",
              "        await google.colab.output.renderOutput(dataTable, element);\n",
              "        const docLink = document.createElement('div');\n",
              "        docLink.innerHTML = docLinkHtml;\n",
              "        element.appendChild(docLink);\n",
              "      }\n",
              "    </script>\n",
              "  </div>\n",
              "\n",
              "\n",
              "<div id=\"df-6dc06752-435c-4996-9eb5-10b40365c49e\">\n",
              "  <button class=\"colab-df-quickchart\" onclick=\"quickchart('df-6dc06752-435c-4996-9eb5-10b40365c49e')\"\n",
              "            title=\"Suggest charts\"\n",
              "            style=\"display:none;\">\n",
              "\n",
              "<svg xmlns=\"http://www.w3.org/2000/svg\" height=\"24px\"viewBox=\"0 0 24 24\"\n",
              "     width=\"24px\">\n",
              "    <g>\n",
              "        <path d=\"M19 3H5c-1.1 0-2 .9-2 2v14c0 1.1.9 2 2 2h14c1.1 0 2-.9 2-2V5c0-1.1-.9-2-2-2zM9 17H7v-7h2v7zm4 0h-2V7h2v10zm4 0h-2v-4h2v4z\"/>\n",
              "    </g>\n",
              "</svg>\n",
              "  </button>\n",
              "\n",
              "<style>\n",
              "  .colab-df-quickchart {\n",
              "      --bg-color: #E8F0FE;\n",
              "      --fill-color: #1967D2;\n",
              "      --hover-bg-color: #E2EBFA;\n",
              "      --hover-fill-color: #174EA6;\n",
              "      --disabled-fill-color: #AAA;\n",
              "      --disabled-bg-color: #DDD;\n",
              "  }\n",
              "\n",
              "  [theme=dark] .colab-df-quickchart {\n",
              "      --bg-color: #3B4455;\n",
              "      --fill-color: #D2E3FC;\n",
              "      --hover-bg-color: #434B5C;\n",
              "      --hover-fill-color: #FFFFFF;\n",
              "      --disabled-bg-color: #3B4455;\n",
              "      --disabled-fill-color: #666;\n",
              "  }\n",
              "\n",
              "  .colab-df-quickchart {\n",
              "    background-color: var(--bg-color);\n",
              "    border: none;\n",
              "    border-radius: 50%;\n",
              "    cursor: pointer;\n",
              "    display: none;\n",
              "    fill: var(--fill-color);\n",
              "    height: 32px;\n",
              "    padding: 0;\n",
              "    width: 32px;\n",
              "  }\n",
              "\n",
              "  .colab-df-quickchart:hover {\n",
              "    background-color: var(--hover-bg-color);\n",
              "    box-shadow: 0 1px 2px rgba(60, 64, 67, 0.3), 0 1px 3px 1px rgba(60, 64, 67, 0.15);\n",
              "    fill: var(--button-hover-fill-color);\n",
              "  }\n",
              "\n",
              "  .colab-df-quickchart-complete:disabled,\n",
              "  .colab-df-quickchart-complete:disabled:hover {\n",
              "    background-color: var(--disabled-bg-color);\n",
              "    fill: var(--disabled-fill-color);\n",
              "    box-shadow: none;\n",
              "  }\n",
              "\n",
              "  .colab-df-spinner {\n",
              "    border: 2px solid var(--fill-color);\n",
              "    border-color: transparent;\n",
              "    border-bottom-color: var(--fill-color);\n",
              "    animation:\n",
              "      spin 1s steps(1) infinite;\n",
              "  }\n",
              "\n",
              "  @keyframes spin {\n",
              "    0% {\n",
              "      border-color: transparent;\n",
              "      border-bottom-color: var(--fill-color);\n",
              "      border-left-color: var(--fill-color);\n",
              "    }\n",
              "    20% {\n",
              "      border-color: transparent;\n",
              "      border-left-color: var(--fill-color);\n",
              "      border-top-color: var(--fill-color);\n",
              "    }\n",
              "    30% {\n",
              "      border-color: transparent;\n",
              "      border-left-color: var(--fill-color);\n",
              "      border-top-color: var(--fill-color);\n",
              "      border-right-color: var(--fill-color);\n",
              "    }\n",
              "    40% {\n",
              "      border-color: transparent;\n",
              "      border-right-color: var(--fill-color);\n",
              "      border-top-color: var(--fill-color);\n",
              "    }\n",
              "    60% {\n",
              "      border-color: transparent;\n",
              "      border-right-color: var(--fill-color);\n",
              "    }\n",
              "    80% {\n",
              "      border-color: transparent;\n",
              "      border-right-color: var(--fill-color);\n",
              "      border-bottom-color: var(--fill-color);\n",
              "    }\n",
              "    90% {\n",
              "      border-color: transparent;\n",
              "      border-bottom-color: var(--fill-color);\n",
              "    }\n",
              "  }\n",
              "</style>\n",
              "\n",
              "  <script>\n",
              "    async function quickchart(key) {\n",
              "      const quickchartButtonEl =\n",
              "        document.querySelector('#' + key + ' button');\n",
              "      quickchartButtonEl.disabled = true;  // To prevent multiple clicks.\n",
              "      quickchartButtonEl.classList.add('colab-df-spinner');\n",
              "      try {\n",
              "        const charts = await google.colab.kernel.invokeFunction(\n",
              "            'suggestCharts', [key], {});\n",
              "      } catch (error) {\n",
              "        console.error('Error during call to suggestCharts:', error);\n",
              "      }\n",
              "      quickchartButtonEl.classList.remove('colab-df-spinner');\n",
              "      quickchartButtonEl.classList.add('colab-df-quickchart-complete');\n",
              "    }\n",
              "    (() => {\n",
              "      let quickchartButtonEl =\n",
              "        document.querySelector('#df-6dc06752-435c-4996-9eb5-10b40365c49e button');\n",
              "      quickchartButtonEl.style.display =\n",
              "        google.colab.kernel.accessAllowed ? 'block' : 'none';\n",
              "    })();\n",
              "  </script>\n",
              "</div>\n",
              "\n",
              "    </div>\n",
              "  </div>\n"
            ],
            "application/vnd.google.colaboratory.intrinsic+json": {
              "type": "dataframe",
              "variable_name": "clean_df",
              "summary": "{\n  \"name\": \"clean_df\",\n  \"rows\": 18549,\n  \"fields\": [\n    {\n      \"column\": \"userName\",\n      \"properties\": {\n        \"dtype\": \"category\",\n        \"num_unique_values\": 1731,\n        \"samples\": [\n          \"Putra Ripki\",\n          \"Mohammad Verrel abiansa\",\n          \"D X\"\n        ],\n        \"semantic_type\": \"\",\n        \"description\": \"\"\n      }\n    },\n    {\n      \"column\": \"score\",\n      \"properties\": {\n        \"dtype\": \"number\",\n        \"std\": 1,\n        \"min\": 1,\n        \"max\": 5,\n        \"num_unique_values\": 5,\n        \"samples\": [\n          3,\n          1,\n          4\n        ],\n        \"semantic_type\": \"\",\n        \"description\": \"\"\n      }\n    },\n    {\n      \"column\": \"at\",\n      \"properties\": {\n        \"dtype\": \"object\",\n        \"num_unique_values\": 18510,\n        \"samples\": [\n          \"2025-03-20 11:59:52\",\n          \"2025-04-05 03:17:06\",\n          \"2025-03-01 16:34:46\"\n        ],\n        \"semantic_type\": \"\",\n        \"description\": \"\"\n      }\n    },\n    {\n      \"column\": \"content\",\n      \"properties\": {\n        \"dtype\": \"string\",\n        \"num_unique_values\": 18549,\n        \"samples\": [\n          \"game nya lumayan cakep sehingga banyak artis yg di luar sana bermain game ini\",\n          \"ko yg Laen blok blast nya angka nya kaya ada warna nya tapi ko saga ga ya\",\n          \"ini mah game gabut aku suka game gabut\"\n        ],\n        \"semantic_type\": \"\",\n        \"description\": \"\"\n      }\n    },\n    {\n      \"column\": \"text_clean\",\n      \"properties\": {\n        \"dtype\": \"string\",\n        \"num_unique_values\": 18296,\n        \"samples\": [\n          \"seru lagi viral lagi tambah populer nih game\",\n          \"ilangin iklannya dong\",\n          \"Nggak ada bosannya sama permainan block blast\"\n        ],\n        \"semantic_type\": \"\",\n        \"description\": \"\"\n      }\n    },\n    {\n      \"column\": \"text_casefoldingText\",\n      \"properties\": {\n        \"dtype\": \"string\",\n        \"num_unique_values\": 18140,\n        \"samples\": [\n          \"bagus banyak yg main juga\",\n          \"permainannya blok blast saru menantang gitu juga bisa adu sekor\",\n          \"ketagihann mainnn nyaa apa lagii minsal kn nggak punya kotawifi permainan block blast lahhh solusinya\"\n        ],\n        \"semantic_type\": \"\",\n        \"description\": \"\"\n      }\n    },\n    {\n      \"column\": \"text_slangwords\",\n      \"properties\": {\n        \"dtype\": \"string\",\n        \"num_unique_values\": 18071,\n        \"samples\": [\n          \"yahhh kalau block nya sudah mau penuh auto dikasih block sampah\",\n          \"game paling bagus didunia tidak ada yang bisa nyaingi pubg saja  kalah kok\",\n          \"baguss sangat  gamee nya saya sukaaa ratingg buatt game inii sering sering di update ya biar makin baguss adain warna buat blok nyaa\"\n        ],\n        \"semantic_type\": \"\",\n        \"description\": \"\"\n      }\n    },\n    {\n      \"column\": \"text_tokenizingText\",\n      \"properties\": {\n        \"dtype\": \"object\",\n        \"semantic_type\": \"\",\n        \"description\": \"\"\n      }\n    },\n    {\n      \"column\": \"text_stopword\",\n      \"properties\": {\n        \"dtype\": \"object\",\n        \"semantic_type\": \"\",\n        \"description\": \"\"\n      }\n    },\n    {\n      \"column\": \"text_stemming\",\n      \"properties\": {\n        \"dtype\": \"object\",\n        \"semantic_type\": \"\",\n        \"description\": \"\"\n      }\n    },\n    {\n      \"column\": \"text_akhir\",\n      \"properties\": {\n        \"dtype\": \"string\",\n        \"num_unique_values\": 15764,\n        \"samples\": [\n          \"seru senang cocok kouta makasih\",\n          \"seru gadang\",\n          \"suru geme bosan cocok main paket\"\n        ],\n        \"semantic_type\": \"\",\n        \"description\": \"\"\n      }\n    },\n    {\n      \"column\": \"sentiment_label\",\n      \"properties\": {\n        \"dtype\": \"category\",\n        \"num_unique_values\": 3,\n        \"samples\": [\n          \"Positif\",\n          \"Netral\",\n          \"Negatif\"\n        ],\n        \"semantic_type\": \"\",\n        \"description\": \"\"\n      }\n    }\n  ]\n}"
            }
          },
          "metadata": {},
          "execution_count": 22
        }
      ]
    },
    {
      "cell_type": "code",
      "source": [
        "clean_df.info()"
      ],
      "metadata": {
        "colab": {
          "base_uri": "https://localhost:8080/"
        },
        "id": "pJKeu-Nx-8dC",
        "outputId": "94120cc8-15c8-40e0-f57c-bf4201a726c7"
      },
      "id": "pJKeu-Nx-8dC",
      "execution_count": 23,
      "outputs": [
        {
          "output_type": "stream",
          "name": "stdout",
          "text": [
            "<class 'pandas.core.frame.DataFrame'>\n",
            "Index: 18549 entries, 0 to 19999\n",
            "Data columns (total 12 columns):\n",
            " #   Column                Non-Null Count  Dtype \n",
            "---  ------                --------------  ----- \n",
            " 0   userName              18549 non-null  object\n",
            " 1   score                 18549 non-null  int64 \n",
            " 2   at                    18549 non-null  object\n",
            " 3   content               18549 non-null  object\n",
            " 4   text_clean            18549 non-null  object\n",
            " 5   text_casefoldingText  18549 non-null  object\n",
            " 6   text_slangwords       18549 non-null  object\n",
            " 7   text_tokenizingText   18549 non-null  object\n",
            " 8   text_stopword         18549 non-null  object\n",
            " 9   text_stemming         18549 non-null  object\n",
            " 10  text_akhir            18549 non-null  object\n",
            " 11  sentiment_label       18549 non-null  object\n",
            "dtypes: int64(1), object(11)\n",
            "memory usage: 2.3+ MB\n"
          ]
        }
      ]
    },
    {
      "cell_type": "markdown",
      "source": [
        "Setelah preprocessing text dan pelabelan, jumlah data sekitar 18549 sampel."
      ],
      "metadata": {
        "id": "h62MGmiR_A5O"
      },
      "id": "h62MGmiR_A5O"
    },
    {
      "cell_type": "code",
      "source": [
        "# Menyimpan hasil preprocessing ke file csv\n",
        "clean_df.to_csv('clean_df.csv', index=False)"
      ],
      "metadata": {
        "id": "1mDXRP8Tm4bq"
      },
      "id": "1mDXRP8Tm4bq",
      "execution_count": 24,
      "outputs": []
    },
    {
      "cell_type": "markdown",
      "source": [
        "## Skema 1\n",
        "\n",
        "* Pelatihan: Logistic Regression\n",
        "* Ekstraksi Fitur: TF-IDF\n",
        "* Pembagian Data: 80/20"
      ],
      "metadata": {
        "id": "rUlxWz4MFGKX"
      },
      "id": "rUlxWz4MFGKX"
    },
    {
      "cell_type": "code",
      "source": [
        "# Label Encoding kolom sentiment_labeluntuk keperluan model logistic regression\n",
        "le = LabelEncoder()\n",
        "y_encoded = le.fit_transform(clean_df['sentiment_label'])"
      ],
      "metadata": {
        "id": "9UgyzpKZQh1n"
      },
      "id": "9UgyzpKZQh1n",
      "execution_count": 25,
      "outputs": []
    },
    {
      "cell_type": "code",
      "source": [
        "# Ekstraksi Fitur dengan TF-IDF\n",
        "vectorizer = TfidfVectorizer()\n",
        "X_tfidf = vectorizer.fit_transform(clean_df['text_akhir'])"
      ],
      "metadata": {
        "id": "6D6VdwZyHBuj"
      },
      "id": "6D6VdwZyHBuj",
      "execution_count": 26,
      "outputs": []
    },
    {
      "cell_type": "code",
      "source": [
        "# Split data\n",
        "X_train, X_test, y_train, y_test = train_test_split(X_tfidf, y_encoded, test_size=0.2, random_state=42, stratify=y_encoded)"
      ],
      "metadata": {
        "id": "9l9oUxngIAE9"
      },
      "id": "9l9oUxngIAE9",
      "execution_count": 27,
      "outputs": []
    },
    {
      "cell_type": "code",
      "source": [
        "# Membuat objek model Logistic Regression\n",
        "logistic_regression = LogisticRegression(max_iter=1000)\n",
        "\n",
        "# Melatih model Logistic Regression pada data pelatihan\n",
        "logistic_regression.fit(X_train.toarray(), y_train)\n",
        "\n",
        "# Prediksi sentimen pada data pelatihan dan data uji\n",
        "y_pred_train_lr = logistic_regression.predict(X_train.toarray())\n",
        "y_pred_test_lr = logistic_regression.predict(X_test.toarray())\n",
        "\n",
        "# Evaluasi akurasi model Logistic Regression pada data pelatihan\n",
        "accuracy_train_lr = accuracy_score(y_pred_train_lr, y_train)\n",
        "\n",
        "# Evaluasi akurasi model Logistic Regression pada data uji\n",
        "accuracy_test_lr = accuracy_score(y_pred_test_lr, y_test)\n",
        "\n",
        "# Menampilkan akurasi\n",
        "print('Logistic Regression - accuracy_train:', accuracy_train_lr)\n",
        "print('Logistic Regression - accuracy_test:', accuracy_test_lr)"
      ],
      "metadata": {
        "colab": {
          "base_uri": "https://localhost:8080/"
        },
        "id": "rccXLDExIVIq",
        "outputId": "4fba8fe9-503e-401c-c67f-f2ef7b5a1c37"
      },
      "id": "rccXLDExIVIq",
      "execution_count": 28,
      "outputs": [
        {
          "output_type": "stream",
          "name": "stdout",
          "text": [
            "Logistic Regression - accuracy_train: 0.9129995282700991\n",
            "Logistic Regression - accuracy_test: 0.8946091644204852\n"
          ]
        }
      ]
    },
    {
      "cell_type": "markdown",
      "source": [
        "## Skema 2\n",
        "\n",
        "* Pelatihan: Support Vector Machine (SVM)\n",
        "* Ekstraksi Fitur: Bag of Words (BoW)\n",
        "* Pembagian Data: 80/20"
      ],
      "metadata": {
        "id": "UcDU7FS5dthj"
      },
      "id": "UcDU7FS5dthj"
    },
    {
      "cell_type": "markdown",
      "source": [
        "Label Encoding sudah dilakukan pada Skema 1. Label encoding ini juga membantu algoritma Naive Bayes yang membutuhkan target (y) dalam bentuk numerik supaya bisa menghitung probabilitas untuk tiap kelas."
      ],
      "metadata": {
        "id": "d0r2EYVEd693"
      },
      "id": "d0r2EYVEd693"
    },
    {
      "cell_type": "code",
      "source": [
        "# Tokenisasi & Ekstraksi Fitur dengan Bag of Words (BoW)\n",
        "vectorizer = CountVectorizer(ngram_range=(1, 2))  # BoW dengan unigram dan bigram\n",
        "X_bow = vectorizer.fit_transform(clean_df['text_akhir'])"
      ],
      "metadata": {
        "id": "t4xHw7Bsd3Fl"
      },
      "id": "t4xHw7Bsd3Fl",
      "execution_count": 29,
      "outputs": []
    },
    {
      "cell_type": "code",
      "source": [
        "# Split data\n",
        "X_train, X_test, y_train, y_test = train_test_split(X_bow, y_encoded, test_size=0.2, random_state=42)"
      ],
      "metadata": {
        "id": "5M_JOa-Bd8HI"
      },
      "id": "5M_JOa-Bd8HI",
      "execution_count": 30,
      "outputs": []
    },
    {
      "cell_type": "code",
      "source": [
        "# Membuat dan melatih model SVM\n",
        "# Menggunakan GridSearch untuk tuning hyperparameter\n",
        "parameters = {\n",
        "    'C': [0.1, 1, 10],\n",
        "    'kernel': ['linear', 'rbf']\n",
        "}\n",
        "\n",
        "grid_search = GridSearchCV(SVC(), parameters, cv=5, scoring='accuracy')\n",
        "grid_search.fit(X_train, y_train)\n",
        "\n",
        "svm_model = grid_search.best_estimator_\n",
        "print(\"Best parameters:\", grid_search.best_params_)"
      ],
      "metadata": {
        "colab": {
          "base_uri": "https://localhost:8080/"
        },
        "id": "0ad6ZQY5CsL8",
        "outputId": "d7fcfb59-4bf0-4e71-9e6e-cf140c122a80"
      },
      "id": "0ad6ZQY5CsL8",
      "execution_count": 31,
      "outputs": [
        {
          "output_type": "stream",
          "name": "stdout",
          "text": [
            "Best parameters: {'C': 0.1, 'kernel': 'linear'}\n"
          ]
        }
      ]
    },
    {
      "cell_type": "code",
      "source": [
        "# Prediksi pada data pelatihan dan data uji\n",
        "y_pred_train_svm = svm_model.predict(X_train)\n",
        "y_pred_test_svm = svm_model.predict(X_test)\n",
        "\n",
        "# Evaluasi akurasi\n",
        "accuracy_train_svm = accuracy_score(y_train, y_pred_train_svm)\n",
        "accuracy_test_svm = accuracy_score(y_test, y_pred_test_svm)\n",
        "\n",
        "# Menampilkan hasil\n",
        "print('Support Vector Machine (SVM) - Accuracy (Train):', accuracy_train_svm)\n",
        "print('Support Vector Machine (SVM) - Accuracy (Test):', accuracy_test_svm)"
      ],
      "metadata": {
        "colab": {
          "base_uri": "https://localhost:8080/"
        },
        "id": "i-UpTXBdd-Tl",
        "outputId": "1d6dc5c3-d5b0-48b3-edd3-88459b7e6b3e"
      },
      "id": "i-UpTXBdd-Tl",
      "execution_count": 32,
      "outputs": [
        {
          "output_type": "stream",
          "name": "stdout",
          "text": [
            "Support Vector Machine (SVM) - Accuracy (Train): 0.931936114293416\n",
            "Support Vector Machine (SVM) - Accuracy (Test): 0.8991913746630728\n"
          ]
        }
      ]
    },
    {
      "cell_type": "markdown",
      "source": [
        "## Skema 3\n",
        "\n",
        "* Pelatihan: Long-Short Term Memory (LSTM)\n",
        "* Ekstraksi Fitur: -\n",
        "* Pembagian Data: 70/30"
      ],
      "metadata": {
        "id": "KPxAIWQcd_43"
      },
      "id": "KPxAIWQcd_43"
    },
    {
      "cell_type": "markdown",
      "source": [
        "LSTM merupakan deep learning yang bekerja langsung dengan urutan kata (sekuens), sehingga tidak memerlukan ekstraksi fitur."
      ],
      "metadata": {
        "id": "TPll3t0SeJRk"
      },
      "id": "TPll3t0SeJRk"
    },
    {
      "cell_type": "code",
      "source": [
        "# Tokenisasi\n",
        "tokenizer = Tokenizer()\n",
        "tokenizer.fit_on_texts(clean_df['text_akhir'])\n",
        "sequences = tokenizer.texts_to_sequences(clean_df['text_akhir'])"
      ],
      "metadata": {
        "id": "bSPgMdQ2Rx3i"
      },
      "id": "bSPgMdQ2Rx3i",
      "execution_count": 33,
      "outputs": []
    },
    {
      "cell_type": "code",
      "source": [
        "# Padding sequence agar panjangnya sama\n",
        "maxlen = 100\n",
        "X_padded = pad_sequences(sequences, padding='post', maxlen=maxlen)"
      ],
      "metadata": {
        "id": "kVwYBqCZR3_0"
      },
      "id": "kVwYBqCZR3_0",
      "execution_count": 34,
      "outputs": []
    },
    {
      "cell_type": "code",
      "source": [
        "# Split data 70% train, 30% test\n",
        "X_train, X_test, y_train, y_test = train_test_split(X_padded, y_encoded, test_size=0.3, random_state=42, stratify=y_encoded)"
      ],
      "metadata": {
        "id": "6zlceUn8R610"
      },
      "id": "6zlceUn8R610",
      "execution_count": 35,
      "outputs": []
    },
    {
      "cell_type": "code",
      "source": [
        "# Membangun model LSTM\n",
        "model = Sequential()\n",
        "model.add(Embedding(input_dim=len(tokenizer.word_index) + 1, output_dim=100, input_length=maxlen))\n",
        "model.add(SpatialDropout1D(0.2))\n",
        "model.add(LSTM(256, dropout=0.2, recurrent_dropout=0.2))\n",
        "model.add(Dense(3, activation='softmax'))"
      ],
      "metadata": {
        "colab": {
          "base_uri": "https://localhost:8080/"
        },
        "id": "WALQj695R88p",
        "outputId": "c58a8ffb-e279-4bfb-cad4-6f4b81121e7b"
      },
      "id": "WALQj695R88p",
      "execution_count": 36,
      "outputs": [
        {
          "output_type": "stream",
          "name": "stderr",
          "text": [
            "/usr/local/lib/python3.11/dist-packages/keras/src/layers/core/embedding.py:90: UserWarning: Argument `input_length` is deprecated. Just remove it.\n",
            "  warnings.warn(\n"
          ]
        }
      ]
    },
    {
      "cell_type": "code",
      "source": [
        "# Compile model\n",
        "model.compile(loss='sparse_categorical_crossentropy', optimizer='adam', metrics=['accuracy'])"
      ],
      "metadata": {
        "id": "_c_iJBlxSB1k"
      },
      "id": "_c_iJBlxSB1k",
      "execution_count": 37,
      "outputs": []
    },
    {
      "cell_type": "code",
      "source": [
        "# Early stopping\n",
        "early_stop = EarlyStopping(monitor='val_loss', patience=3, restore_best_weights=True)\n",
        "\n",
        "# Melatih model\n",
        "history = model.fit(\n",
        "    X_train, y_train,\n",
        "    validation_data=(X_test, y_test),\n",
        "    epochs=20,\n",
        "    batch_size=32,\n",
        "    callbacks=[early_stop],\n",
        "    verbose=1\n",
        ")"
      ],
      "metadata": {
        "colab": {
          "base_uri": "https://localhost:8080/"
        },
        "id": "XAQBYd2sSFOT",
        "outputId": "a4edf455-56fe-412f-c5b4-8c39e0d53203"
      },
      "id": "XAQBYd2sSFOT",
      "execution_count": 38,
      "outputs": [
        {
          "output_type": "stream",
          "name": "stdout",
          "text": [
            "Epoch 1/20\n",
            "\u001b[1m406/406\u001b[0m \u001b[32m━━━━━━━━━━━━━━━━━━━━\u001b[0m\u001b[37m\u001b[0m \u001b[1m265s\u001b[0m 645ms/step - accuracy: 0.8420 - loss: 0.5312 - val_accuracy: 0.8559 - val_loss: 0.4910\n",
            "Epoch 2/20\n",
            "\u001b[1m406/406\u001b[0m \u001b[32m━━━━━━━━━━━━━━━━━━━━\u001b[0m\u001b[37m\u001b[0m \u001b[1m257s\u001b[0m 634ms/step - accuracy: 0.8581 - loss: 0.4857 - val_accuracy: 0.8559 - val_loss: 0.4901\n",
            "Epoch 3/20\n",
            "\u001b[1m406/406\u001b[0m \u001b[32m━━━━━━━━━━━━━━━━━━━━\u001b[0m\u001b[37m\u001b[0m \u001b[1m258s\u001b[0m 635ms/step - accuracy: 0.8565 - loss: 0.4902 - val_accuracy: 0.8559 - val_loss: 0.4904\n",
            "Epoch 4/20\n",
            "\u001b[1m406/406\u001b[0m \u001b[32m━━━━━━━━━━━━━━━━━━━━\u001b[0m\u001b[37m\u001b[0m \u001b[1m258s\u001b[0m 635ms/step - accuracy: 0.8566 - loss: 0.4918 - val_accuracy: 0.8559 - val_loss: 0.4903\n",
            "Epoch 5/20\n",
            "\u001b[1m406/406\u001b[0m \u001b[32m━━━━━━━━━━━━━━━━━━━━\u001b[0m\u001b[37m\u001b[0m \u001b[1m257s\u001b[0m 633ms/step - accuracy: 0.8619 - loss: 0.4768 - val_accuracy: 0.8559 - val_loss: 0.4919\n"
          ]
        }
      ]
    },
    {
      "cell_type": "code",
      "source": [
        "# Prediksi\n",
        "y_pred_train = np.argmax(model.predict(X_train), axis=1)\n",
        "y_pred_test = np.argmax(model.predict(X_test), axis=1)\n",
        "\n",
        "# Evaluasi\n",
        "accuracy_train_lstm = accuracy_score(y_train, y_pred_train)\n",
        "accuracy_test_lstm = accuracy_score(y_test, y_pred_test)\n",
        "\n",
        "print('LSTM - Accuracy (Train):', accuracy_train_lstm)\n",
        "print('LSTM - Accuracy (Test):', accuracy_test_lstm)"
      ],
      "metadata": {
        "id": "RPNpElr5SH_W",
        "colab": {
          "base_uri": "https://localhost:8080/"
        },
        "outputId": "15ce8cb3-1fd1-4861-bd5d-a12d08407043"
      },
      "id": "RPNpElr5SH_W",
      "execution_count": 39,
      "outputs": [
        {
          "output_type": "stream",
          "name": "stdout",
          "text": [
            "\u001b[1m406/406\u001b[0m \u001b[32m━━━━━━━━━━━━━━━━━━━━\u001b[0m\u001b[37m\u001b[0m \u001b[1m23s\u001b[0m 55ms/step\n",
            "\u001b[1m174/174\u001b[0m \u001b[32m━━━━━━━━━━━━━━━━━━━━\u001b[0m\u001b[37m\u001b[0m \u001b[1m9s\u001b[0m 54ms/step\n",
            "LSTM - Accuracy (Train): 0.8558995686999384\n",
            "LSTM - Accuracy (Test): 0.855884995507637\n"
          ]
        }
      ]
    },
    {
      "cell_type": "markdown",
      "source": [
        "## Menyimpan model terbaik"
      ],
      "metadata": {
        "id": "BotmySGxDRlY"
      },
      "id": "BotmySGxDRlY"
    },
    {
      "cell_type": "markdown",
      "source": [
        "Dari ketiga skema analisis sentimen yang dibandingkan, model SVM memiliki akurasi testing dan evaluasi tertinggi. Yaitu\t93.1% untuk akurasi training set dan 89.9% untuk testing set."
      ],
      "metadata": {
        "id": "GrYNRFuSDUkD"
      },
      "id": "GrYNRFuSDUkD"
    },
    {
      "cell_type": "code",
      "source": [
        "joblib.dump(svm_model, 'svm_model.pkl')"
      ],
      "metadata": {
        "colab": {
          "base_uri": "https://localhost:8080/"
        },
        "id": "WJtEo6HIDYEG",
        "outputId": "34d9efd3-80c6-4a2d-cb6f-827253cdfd50"
      },
      "id": "WJtEo6HIDYEG",
      "execution_count": 40,
      "outputs": [
        {
          "output_type": "execute_result",
          "data": {
            "text/plain": [
              "['svm_model.pkl']"
            ]
          },
          "metadata": {},
          "execution_count": 40
        }
      ]
    },
    {
      "cell_type": "code",
      "source": [
        "joblib.dump(vectorizer, 'vectorizer.pkl')"
      ],
      "metadata": {
        "colab": {
          "base_uri": "https://localhost:8080/"
        },
        "id": "zdEnTlUr6U4l",
        "outputId": "2f01288c-942a-4253-f437-2fa5ff4f9005"
      },
      "id": "zdEnTlUr6U4l",
      "execution_count": 41,
      "outputs": [
        {
          "output_type": "execute_result",
          "data": {
            "text/plain": [
              "['vectorizer.pkl']"
            ]
          },
          "metadata": {},
          "execution_count": 41
        }
      ]
    }
  ],
  "metadata": {
    "kernelspec": {
      "display_name": "Python 3",
      "name": "python3"
    },
    "language_info": {
      "codemirror_mode": {
        "name": "ipython",
        "version": 3
      },
      "file_extension": ".py",
      "mimetype": "text/x-python",
      "name": "python",
      "nbconvert_exporter": "python",
      "pygments_lexer": "ipython3",
      "version": "3.9.6"
    },
    "colab": {
      "provenance": [],
      "collapsed_sections": [
        "KPxAIWQcd_43"
      ],
      "gpuType": "V28"
    },
    "widgets": {
      "application/vnd.jupyter.widget-state+json": {
        "dfbdaddec3ed4e94bf44201a3710d093": {
          "model_module": "@jupyter-widgets/controls",
          "model_name": "HBoxModel",
          "model_module_version": "1.5.0",
          "state": {
            "_dom_classes": [],
            "_model_module": "@jupyter-widgets/controls",
            "_model_module_version": "1.5.0",
            "_model_name": "HBoxModel",
            "_view_count": null,
            "_view_module": "@jupyter-widgets/controls",
            "_view_module_version": "1.5.0",
            "_view_name": "HBoxView",
            "box_style": "",
            "children": [
              "IPY_MODEL_a3bbf382fdc14e0c94a09acedf843c4c",
              "IPY_MODEL_cc04eccecbd9459aa96d427ff7284276",
              "IPY_MODEL_90a2fea0bcd14e4aa675d25d2c6b1ab2"
            ],
            "layout": "IPY_MODEL_74e71c9039d844dea70f7ea8406c638c"
          }
        },
        "a3bbf382fdc14e0c94a09acedf843c4c": {
          "model_module": "@jupyter-widgets/controls",
          "model_name": "HTMLModel",
          "model_module_version": "1.5.0",
          "state": {
            "_dom_classes": [],
            "_model_module": "@jupyter-widgets/controls",
            "_model_module_version": "1.5.0",
            "_model_name": "HTMLModel",
            "_view_count": null,
            "_view_module": "@jupyter-widgets/controls",
            "_view_module_version": "1.5.0",
            "_view_name": "HTMLView",
            "description": "",
            "description_tooltip": null,
            "layout": "IPY_MODEL_6e40d72efed34de9b228127afcf0ecee",
            "placeholder": "​",
            "style": "IPY_MODEL_880693f79edc45f383b4288fbb8167a7",
            "value": "100%"
          }
        },
        "cc04eccecbd9459aa96d427ff7284276": {
          "model_module": "@jupyter-widgets/controls",
          "model_name": "FloatProgressModel",
          "model_module_version": "1.5.0",
          "state": {
            "_dom_classes": [],
            "_model_module": "@jupyter-widgets/controls",
            "_model_module_version": "1.5.0",
            "_model_name": "FloatProgressModel",
            "_view_count": null,
            "_view_module": "@jupyter-widgets/controls",
            "_view_module_version": "1.5.0",
            "_view_name": "ProgressView",
            "bar_style": "success",
            "description": "",
            "description_tooltip": null,
            "layout": "IPY_MODEL_4506947ea26a4d50a10015969c467c03",
            "max": 19999,
            "min": 0,
            "orientation": "horizontal",
            "style": "IPY_MODEL_034db56bb30e43bf91bb1783e4b11b6d",
            "value": 19999
          }
        },
        "90a2fea0bcd14e4aa675d25d2c6b1ab2": {
          "model_module": "@jupyter-widgets/controls",
          "model_name": "HTMLModel",
          "model_module_version": "1.5.0",
          "state": {
            "_dom_classes": [],
            "_model_module": "@jupyter-widgets/controls",
            "_model_module_version": "1.5.0",
            "_model_name": "HTMLModel",
            "_view_count": null,
            "_view_module": "@jupyter-widgets/controls",
            "_view_module_version": "1.5.0",
            "_view_name": "HTMLView",
            "description": "",
            "description_tooltip": null,
            "layout": "IPY_MODEL_166a626b61cd411097429f5a1332675d",
            "placeholder": "​",
            "style": "IPY_MODEL_9d12649a7bb541b99b53cc4418697ed8",
            "value": " 19999/19999 [1:14:07&lt;00:00, 11.86it/s]"
          }
        },
        "74e71c9039d844dea70f7ea8406c638c": {
          "model_module": "@jupyter-widgets/base",
          "model_name": "LayoutModel",
          "model_module_version": "1.2.0",
          "state": {
            "_model_module": "@jupyter-widgets/base",
            "_model_module_version": "1.2.0",
            "_model_name": "LayoutModel",
            "_view_count": null,
            "_view_module": "@jupyter-widgets/base",
            "_view_module_version": "1.2.0",
            "_view_name": "LayoutView",
            "align_content": null,
            "align_items": null,
            "align_self": null,
            "border": null,
            "bottom": null,
            "display": null,
            "flex": null,
            "flex_flow": null,
            "grid_area": null,
            "grid_auto_columns": null,
            "grid_auto_flow": null,
            "grid_auto_rows": null,
            "grid_column": null,
            "grid_gap": null,
            "grid_row": null,
            "grid_template_areas": null,
            "grid_template_columns": null,
            "grid_template_rows": null,
            "height": null,
            "justify_content": null,
            "justify_items": null,
            "left": null,
            "margin": null,
            "max_height": null,
            "max_width": null,
            "min_height": null,
            "min_width": null,
            "object_fit": null,
            "object_position": null,
            "order": null,
            "overflow": null,
            "overflow_x": null,
            "overflow_y": null,
            "padding": null,
            "right": null,
            "top": null,
            "visibility": null,
            "width": null
          }
        },
        "6e40d72efed34de9b228127afcf0ecee": {
          "model_module": "@jupyter-widgets/base",
          "model_name": "LayoutModel",
          "model_module_version": "1.2.0",
          "state": {
            "_model_module": "@jupyter-widgets/base",
            "_model_module_version": "1.2.0",
            "_model_name": "LayoutModel",
            "_view_count": null,
            "_view_module": "@jupyter-widgets/base",
            "_view_module_version": "1.2.0",
            "_view_name": "LayoutView",
            "align_content": null,
            "align_items": null,
            "align_self": null,
            "border": null,
            "bottom": null,
            "display": null,
            "flex": null,
            "flex_flow": null,
            "grid_area": null,
            "grid_auto_columns": null,
            "grid_auto_flow": null,
            "grid_auto_rows": null,
            "grid_column": null,
            "grid_gap": null,
            "grid_row": null,
            "grid_template_areas": null,
            "grid_template_columns": null,
            "grid_template_rows": null,
            "height": null,
            "justify_content": null,
            "justify_items": null,
            "left": null,
            "margin": null,
            "max_height": null,
            "max_width": null,
            "min_height": null,
            "min_width": null,
            "object_fit": null,
            "object_position": null,
            "order": null,
            "overflow": null,
            "overflow_x": null,
            "overflow_y": null,
            "padding": null,
            "right": null,
            "top": null,
            "visibility": null,
            "width": null
          }
        },
        "880693f79edc45f383b4288fbb8167a7": {
          "model_module": "@jupyter-widgets/controls",
          "model_name": "DescriptionStyleModel",
          "model_module_version": "1.5.0",
          "state": {
            "_model_module": "@jupyter-widgets/controls",
            "_model_module_version": "1.5.0",
            "_model_name": "DescriptionStyleModel",
            "_view_count": null,
            "_view_module": "@jupyter-widgets/base",
            "_view_module_version": "1.2.0",
            "_view_name": "StyleView",
            "description_width": ""
          }
        },
        "4506947ea26a4d50a10015969c467c03": {
          "model_module": "@jupyter-widgets/base",
          "model_name": "LayoutModel",
          "model_module_version": "1.2.0",
          "state": {
            "_model_module": "@jupyter-widgets/base",
            "_model_module_version": "1.2.0",
            "_model_name": "LayoutModel",
            "_view_count": null,
            "_view_module": "@jupyter-widgets/base",
            "_view_module_version": "1.2.0",
            "_view_name": "LayoutView",
            "align_content": null,
            "align_items": null,
            "align_self": null,
            "border": null,
            "bottom": null,
            "display": null,
            "flex": null,
            "flex_flow": null,
            "grid_area": null,
            "grid_auto_columns": null,
            "grid_auto_flow": null,
            "grid_auto_rows": null,
            "grid_column": null,
            "grid_gap": null,
            "grid_row": null,
            "grid_template_areas": null,
            "grid_template_columns": null,
            "grid_template_rows": null,
            "height": null,
            "justify_content": null,
            "justify_items": null,
            "left": null,
            "margin": null,
            "max_height": null,
            "max_width": null,
            "min_height": null,
            "min_width": null,
            "object_fit": null,
            "object_position": null,
            "order": null,
            "overflow": null,
            "overflow_x": null,
            "overflow_y": null,
            "padding": null,
            "right": null,
            "top": null,
            "visibility": null,
            "width": null
          }
        },
        "034db56bb30e43bf91bb1783e4b11b6d": {
          "model_module": "@jupyter-widgets/controls",
          "model_name": "ProgressStyleModel",
          "model_module_version": "1.5.0",
          "state": {
            "_model_module": "@jupyter-widgets/controls",
            "_model_module_version": "1.5.0",
            "_model_name": "ProgressStyleModel",
            "_view_count": null,
            "_view_module": "@jupyter-widgets/base",
            "_view_module_version": "1.2.0",
            "_view_name": "StyleView",
            "bar_color": null,
            "description_width": ""
          }
        },
        "166a626b61cd411097429f5a1332675d": {
          "model_module": "@jupyter-widgets/base",
          "model_name": "LayoutModel",
          "model_module_version": "1.2.0",
          "state": {
            "_model_module": "@jupyter-widgets/base",
            "_model_module_version": "1.2.0",
            "_model_name": "LayoutModel",
            "_view_count": null,
            "_view_module": "@jupyter-widgets/base",
            "_view_module_version": "1.2.0",
            "_view_name": "LayoutView",
            "align_content": null,
            "align_items": null,
            "align_self": null,
            "border": null,
            "bottom": null,
            "display": null,
            "flex": null,
            "flex_flow": null,
            "grid_area": null,
            "grid_auto_columns": null,
            "grid_auto_flow": null,
            "grid_auto_rows": null,
            "grid_column": null,
            "grid_gap": null,
            "grid_row": null,
            "grid_template_areas": null,
            "grid_template_columns": null,
            "grid_template_rows": null,
            "height": null,
            "justify_content": null,
            "justify_items": null,
            "left": null,
            "margin": null,
            "max_height": null,
            "max_width": null,
            "min_height": null,
            "min_width": null,
            "object_fit": null,
            "object_position": null,
            "order": null,
            "overflow": null,
            "overflow_x": null,
            "overflow_y": null,
            "padding": null,
            "right": null,
            "top": null,
            "visibility": null,
            "width": null
          }
        },
        "9d12649a7bb541b99b53cc4418697ed8": {
          "model_module": "@jupyter-widgets/controls",
          "model_name": "DescriptionStyleModel",
          "model_module_version": "1.5.0",
          "state": {
            "_model_module": "@jupyter-widgets/controls",
            "_model_module_version": "1.5.0",
            "_model_name": "DescriptionStyleModel",
            "_view_count": null,
            "_view_module": "@jupyter-widgets/base",
            "_view_module_version": "1.2.0",
            "_view_name": "StyleView",
            "description_width": ""
          }
        }
      }
    },
    "accelerator": "TPU"
  },
  "nbformat": 4,
  "nbformat_minor": 5
}